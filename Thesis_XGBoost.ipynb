{
  "nbformat": 4,
  "nbformat_minor": 0,
  "metadata": {
    "colab": {
      "name": "Thesis CNN.ipynb",
      "provenance": [],
      "collapsed_sections": []
    },
    "kernelspec": {
      "name": "python392jvsc74a57bd0d91fcc5a8c3bda2b41e8b24eb4ea747edfabeb3994a318062c70e450cdcfcf7b",
      "display_name": "Python 3.9.2 64-bit"
    },
    "metadata": {
      "interpreter": {
        "hash": "d91fcc5a8c3bda2b41e8b24eb4ea747edfabeb3994a318062c70e450cdcfcf7b"
      }
    }
  },
  "cells": [
    {
      "cell_type": "code",
      "metadata": {
        "id": "qQ7vuhzfKF_w"
      },
      "source": [
        "import os\n",
        "import time\n",
        "from sklearn.svm import SVC\n",
        "from sklearn import preprocessing\n",
        "import pandas as pd\n",
        "import matplotlib.pyplot as plt\n",
        "from sklearn.model_selection import train_test_split\n",
        "from sklearn.metrics import confusion_matrix\n",
        "from sklearn.metrics import accuracy_score, f1_score\n",
        "from sklearn.feature_selection import RFE\n",
        "from sklearn.feature_selection import RFECV\n",
        "from sklearn.feature_selection import SelectKBest, chi2\n",
        "from sklearn.preprocessing import StandardScaler\n",
        "from sklearn.datasets import make_classification\n",
        "from sklearn.model_selection import cross_val_score\n",
        "from sklearn.metrics import classification_report\n",
        "from sklearn import metrics\n",
        "from sklearn import svm\n",
        "from sklearn.preprocessing import StandardScaler, MinMaxScaler\n",
        "from sklearn.neighbors import KNeighborsClassifier\n",
        "import xgboost as xgb\n",
        "from xgboost import XGBClassifier\n",
        "import numpy as np\n",
        "import scipy\n",
        "from math import log\n",
        "from numpy.fft import fft, fftfreq, ifft\n",
        "from scipy.fftpack import fft\n",
        "from scipy.fftpack import dct\n",
        "from scipy import fftpack\n",
        "from scipy import signal\n",
        "import csv\n",
        "from scipy.signal import filtfilt\n",
        "from scipy.signal import lfilter\n",
        "from scipy import stats\n",
        "from scipy.signal import butter, lfilter, lfilter_zi, normalize"
      ],
      "execution_count": 17,
      "outputs": []
    },
    {
      "cell_type": "code",
      "metadata": {
        "id": "TOiGdwRcOauO"
      },
      "source": [
        "Channel = ['AF3', 'F7', 'F3', 'FC5', 'T7', 'P7', 'O1', 'O2', 'P8', 'T8', 'FC6', \n",
        "           'F4', 'F8', 'AF4']\n",
        "StimuliFeatures = []\n",
        "BaseLineFeatures = []"
      ],
      "execution_count": 18,
      "outputs": []
    },
    {
      "cell_type": "code",
      "metadata": {
        "id": "q6Yt0TOdWLZC"
      },
      "source": [
        "def bandPassFilter(y, low, high):\n",
        "    lowcut = low\n",
        "    highcut = high\n",
        "    nSamples = len(y)\n",
        "    signal = y\n",
        "    order = 2\n",
        "    fs = nSamples\n",
        "    nyq = 0.5 * fs\n",
        "    l = lowcut / nyq\n",
        "    h = highcut / nyq\n",
        "    b, a = scipy.signal.butter(order, [l, h], btype='bandpass')\n",
        "    yf = scipy.signal.filtfilt(b, a, signal, axis=0)\n",
        "    return yf"
      ],
      "execution_count": 19,
      "outputs": []
    },
    {
      "cell_type": "code",
      "metadata": {
        "id": "O9yNltXZWbk7"
      },
      "source": [
        "def FFTgraph(theta_signal, alpha_signal, beta_signal, ch, check):\n",
        "    fig, (ax1, ax2) = plt.subplots(1, 2, figsize=(14, 7))\n",
        "    plt.title(\"FFT \" + ch + \" \" + check)\n",
        "    n = len(theta_signal)\n",
        "    x = np.linspace(0, n * (1 / 128), n)\n",
        "\n",
        "    ax1.plot(x, theta_signal, label=\"Theta\")\n",
        "    len1 = len(alpha_signal)\n",
        "    n = len1\n",
        "\n",
        "    ax1.plot(x, alpha_signal, label=\"Alpha\")\n",
        "    n = len(beta_signal)\n",
        "\n",
        "    ax1.plot(x, beta_signal, label=\"beta\")\n",
        "    ax1.legend()\n",
        "\n",
        "    # Doing FFT and Ploting\n",
        "    T = 1.0 / 256.0\n",
        "    sample_rate = 256\n",
        "    N = 1 * sample_rate\n",
        "\n",
        "    frequency = np.linspace(0.0, 1.0 / (2.0 * T), N // 2)\n",
        "\n",
        "    freq_data = fft(theta_signal)\n",
        "    yr = 2 / N * np.abs(freq_data[0:N // 2])\n",
        "    ax2.plot(frequency, yr, label='Theta [4-8]')\n",
        "\n",
        "    freq_data = fft(alpha_signal)\n",
        "    yr = 2 / N * np.abs(freq_data[0:N // 2])\n",
        "    ax2.plot(frequency, yr, label='alpha [8-13]')\n",
        "\n",
        "    freq_data = fft(beta_signal)\n",
        "    yr = 2 / N * np.abs(freq_data[0:N // 2])\n",
        "    ax2.plot(frequency, yr, label='Beta [13-20]')\n",
        "\n",
        "    ax2.legend()\n",
        "    plt.show()"
      ],
      "execution_count": 20,
      "outputs": []
    },
    {
      "cell_type": "code",
      "metadata": {
        "id": "_3X0M4tsWe-n"
      },
      "source": [
        "def StoreFeatures(features, id):\n",
        "    if id == 'Stimuli':\n",
        "        for i in range(len(features)):\n",
        "            StimuliFeatures.append(features[i])\n",
        "    if id == 'Baseline':\n",
        "        for i in range(len(features)):\n",
        "            BaseLineFeatures.append(features[i])\n",
        "    pass"
      ],
      "execution_count": 21,
      "outputs": []
    },
    {
      "cell_type": "code",
      "metadata": {
        "id": "aj70V95aUZsu"
      },
      "source": [
        "def PSD_Welch(theta_signal, alpha_signal, beta_signal):\n",
        "    th_frequency, th_power = signal.welch(theta_signal, fs=len(theta_signal), nperseg=256, noverlap=128)\n",
        "    al_frequency, al_power = signal.welch(alpha_signal, fs=len(alpha_signal), nperseg=256, noverlap=128)\n",
        "    th_frequency, bt_power = signal.welch(beta_signal, fs=len(beta_signal), nperseg=256, noverlap=128)\n",
        "\n",
        "    return th_power, al_power, bt_power\n"
      ],
      "execution_count": 22,
      "outputs": []
    },
    {
      "cell_type": "code",
      "metadata": {
        "id": "trCBy7Msf_BF"
      },
      "source": [
        "def hjorth(a):\n",
        "\n",
        "    first_deriv = np.diff(a)\n",
        "    second_deriv = np.diff(a,2)\n",
        "\n",
        "    var_zero = np.mean(a ** 2)\n",
        "    var_d1 = np.mean(first_deriv ** 2)\n",
        "    var_d2 = np.mean(second_deriv ** 2)\n",
        "\n",
        "    activity = var_zero\n",
        "    mobility = np.sqrt(var_d1 / var_zero)\n",
        "    complexity = np.sqrt(var_d2 / var_d1) / mobility\n",
        "\n",
        "    return activity, complexity, mobility"
      ],
      "execution_count": 23,
      "outputs": []
    },
    {
      "cell_type": "code",
      "metadata": {
        "id": "-mKgVzCPWhd-"
      },
      "source": [
        "def workOnColumn(f, id):\n",
        "    for i in range(len(Channel)):\n",
        "        y = np.array(f[Channel[i]])  # Accessing each Channel.\n",
        "        #y = preprocessing.minmax_scale(y)  # Scaling \n",
        "        #N = 0\n",
        "        cutTime = 0\n",
        "        # Working with each Electrode\n",
        "        if id == 'Stimuli':\n",
        "            cutTime = len(y) - 7680  # For Last 60 Seconds\n",
        "            #N = 7680\n",
        "        if id == 'Baseline':\n",
        "            cutTime = len(y) - 512  # For Last 4 Seconds\n",
        "            #N = 512\n",
        "\n",
        "        Filtered_Y = bandPassFilter(y[cutTime:], 4, 30)\n",
        "\n",
        "        theta_signal = bandPassFilter(Filtered_Y, 4, 8)\n",
        "        alpha_signal = bandPassFilter(Filtered_Y, 8, 13)\n",
        "        beta_signal = bandPassFilter(Filtered_Y, 13, 20)\n",
        "\n",
        "        #Ploting - Limited Ploting , As there will be Huge Number of plots if we plot each and every signal\n",
        "        #if i<1:\n",
        "          #if id == 'Baseline' or id == 'Stimuli':\n",
        "           # FFTgraph(theta_signal, alpha_signal, beta_signal, Channel[i], id)\n",
        "\n",
        "        \n",
        "        # FFT Features\n",
        "\n",
        "        theta_FFT = fft(theta_signal) # Calculating FFT of Theta Band\n",
        "        Ceff1 = 2 / 128 * np.abs(theta_FFT[0:128]) # Values from (0-128)Hz Frequency.\n",
        "\n",
        "        alpha_FFT = fft(alpha_signal)# Calculating FFT of Alpha Band\n",
        "        Ceff2 = 2 / 128 * np.abs(alpha_FFT[0:128]) # Values from (0-128)Hz Frequency.\n",
        "\n",
        "        beta_FFT = fft(beta_signal)# Calculating FFT of Beta Band\n",
        "        Ceff3 = 2 / 128 * np.abs(beta_FFT[0:128]) # Values from (0-128)Hz Frequency.\n",
        "\n",
        "        FFT1 = np.max(Ceff1)\n",
        "        FFT2 = np.mean(Ceff1)\n",
        "\n",
        "        FFT3 = np.max(Ceff2)\n",
        "        FFT4 = np.mean(Ceff2)\n",
        "\n",
        "        FFT5 = np.max(Ceff3)\n",
        "        FFT6 = np.mean(Ceff2)\n",
        "\n",
        "\n",
        "        #DCT Features\n",
        "        theta_DCT = dct(theta_signal)# Calculating FFT of Theta Band\n",
        "        Ceff4= 2 / 128 * np.abs(theta_DCT[0:128]) # Values from (0-128)Hz Frequency.\n",
        "\n",
        "        alpha_DCT = dct(alpha_signal)# Calculating FFT of Alpha Band\n",
        "        Ceff5 = 2 / 128 * np.abs(alpha_DCT[0:128]) # Values from (0-128)Hz Frequency.\n",
        "\n",
        "        beta_DCT = dct(beta_signal)# Calculating FFT of Beta Band\n",
        "        Ceff6 = 2 / 128 * np.abs(beta_DCT[0:128]) # Values from (0-128)Hz Frequency.\n",
        "\n",
        "        DCT1 = np.max(Ceff4)\n",
        "        DCT2 = np.mean(Ceff4) \n",
        "\n",
        "        DCT3 = np.max(Ceff5)\n",
        "        DCT4 = np.mean(Ceff5)\n",
        "\n",
        "        DCT5 = np.max(Ceff6)\n",
        "        DCT6 = np.mean(Ceff6)\n",
        "        \n",
        "        # Hjorth Parameters\n",
        "  \n",
        "        activity1, complexity1, mobility1 = hjorth(theta_signal)\n",
        "        activity2, complexity2, mobility2 = hjorth(alpha_signal)\n",
        "        activity3, complexity3, mobility3 = hjorth(beta_signal)\n",
        "\n",
        "        # Finding PSD\n",
        "        power_theta, power_alpha, power_beta = PSD_Welch(theta_signal, alpha_signal, beta_signal)\n",
        "\n",
        "        power_theta = np.max(power_theta)\n",
        "        power_alpha = np.max(power_alpha)\n",
        "        power_beta = np.max(power_beta)\n",
        "\n",
        "        #Statistical Features - (Mean, Mediun, Maximum, Var, Skewness)\n",
        "        theta_mean = np.mean(theta_signal)\n",
        "        theta_median = np.median(theta_signal)\n",
        "        theta_max = np.max(theta_signal)\n",
        "        theta_var = np.var(theta_signal)\n",
        "        theta_skewness = pd.Series(theta_signal).skew()\n",
        "\n",
        "        alpha_mean = np.mean(alpha_signal)\n",
        "        alpha_median = np.median(alpha_signal)\n",
        "        alpha_max = np.max(alpha_signal)\n",
        "        alpha_var = np.var(alpha_signal)\n",
        "        alpha_skewness = pd.Series(alpha_signal).skew()\n",
        "\n",
        "        beta_mean = np.mean(beta_signal)\n",
        "        beta_median = np.median(beta_signal)\n",
        "        beta_max = np.max(beta_signal)\n",
        "        beta_var = np.var(beta_signal)\n",
        "        beta_skewness = pd.Series(beta_signal).skew()\n",
        "\n",
        "        # PoinCare - SD1, SD2\n",
        "        theta_data = theta_signal\n",
        "        theta_diff = np.diff(theta_data)\n",
        "        theta_SDSD = np.std(theta_diff)\n",
        "        theta_SDNN = np.std(theta_data)\n",
        "        theta_SD1 = np.sqrt(0.5 * np.power(theta_SDSD, 2))\n",
        "        theta_SD2 = np.sqrt(2 * np.power(theta_SDNN, 2) - np.power(theta_SD1, 2))\n",
        "\n",
        "        alpha_data = alpha_signal\n",
        "        alpha_diff = np.diff(alpha_data)\n",
        "        alpha_SDSD = np.std(alpha_diff)\n",
        "        alpha_SDNN = np.std(alpha_data)\n",
        "        alpha_SD1 = np.sqrt(0.5 * np.power(alpha_SDSD, 2))\n",
        "        alpha_SD2 = np.sqrt(2 * np.power(alpha_SDNN, 2) - np.power(alpha_SD1, 2))\n",
        "\n",
        "        beta_data = beta_signal\n",
        "        beta_diff = np.diff(beta_data)\n",
        "        beta_SDSD = np.std(beta_diff)\n",
        "        beta_SDNN = np.std(beta_data)\n",
        "        beta_SD1 = np.sqrt(0.5 * np.power(beta_SDSD, 2))\n",
        "        beta_SD2 = np.sqrt(2 * np.power(beta_SDNN, 2) - np.power(beta_SD1, 2))\n",
        " \n",
        "        AllFeatures = [theta_mean, theta_median, theta_max, theta_var, theta_skewness,\n",
        "                       alpha_mean, alpha_median, alpha_max, alpha_var, alpha_skewness,\n",
        "                       beta_mean, beta_median, beta_max, beta_var, beta_skewness,\n",
        "                       theta_SD1, theta_SD2, alpha_SD1, alpha_SD2, beta_SD1, beta_SD2,\n",
        "                       activity1, complexity1, mobility1, activity2, complexity2, mobility2, activity3, complexity3,mobility3,\n",
        "                       FFT1, FFT2, FFT3, FFT4, FFT5, FFT6, DCT1, DCT2, DCT3, DCT4, DCT5, DCT6,\n",
        "                       power_theta, power_alpha,power_beta] \n",
        "\n",
        "        StoreFeatures(AllFeatures, id)\n"
      ],
      "execution_count": 24,
      "outputs": []
    },
    {
      "cell_type": "code",
      "metadata": {
        "id": "BZ_CIg-0WnHe"
      },
      "source": [
        "total_features = 630  # 14 Channel Each having 45 features\n",
        "total_Person = 23 \n",
        "total_Stimuli = 18\n",
        "\n",
        "FinalFeature = dict()\n",
        "for i in range(total_features):\n",
        "    FinalFeature[(\"Feature\" + str(i + 1))] = []\n",
        "\n",
        "# Dataset Stored in Drive \n",
        "\n",
        "for PersonCount in range(total_Person):\n",
        "    for index in range(total_Stimuli):\n",
        "        # For Stimuli\n",
        "        csvStimuli = pd.read_csv('Dataset/EEG_With_Channel/person_' \n",
        "                                 + str(PersonCount + 1) + '_EEG_Stimuli_' + str(index + 1) + '.csv')\n",
        "        Stimuli = pd.DataFrame(csvStimuli)\n",
        "        workOnColumn(Stimuli, 'Stimuli')\n",
        "        # For Baseline\n",
        "        csvBaseLine = pd.read_csv('Dataset/EEG_With_Channel/person_' \n",
        "                                  + str(PersonCount + 1) + '_EEG_baseline_' + str(index + 1) + '.csv')\n",
        "        Baseline = pd.DataFrame(csvBaseLine)\n",
        "        workOnColumn(Baseline, 'Baseline')\n",
        "        Features = np.array(StimuliFeatures) / np.array(BaseLineFeatures)\n",
        "\n",
        "        for i in range(len(Features)):\n",
        "            m = Features[i]\n",
        "            if i < total_features:\n",
        "                FinalFeature[\"Feature\" + str(i + 1)].append(m)\n",
        "\n",
        "        StimuliFeatures = []\n",
        "        BaseLineFeatures = []"
      ],
      "execution_count": 25,
      "outputs": []
    },
    {
      "cell_type": "code",
      "metadata": {
        "id": "xHxlZVFrWs64"
      },
      "source": [
        "#Class Distribution of Self assesment ratings for Arousal, Valence and Dominance\n",
        "ratings = pd.read_csv('Dataset/Results/AllRatings.csv')\n",
        "AllRatings = pd.DataFrame(ratings)\n",
        "\n",
        "Arousal = []\n",
        "Valence = []\n",
        "Dominance = []\n",
        "\n",
        "values = AllRatings['Arousal']\n",
        "for i in range(len(values)):\n",
        "    if values[i] < 2:\n",
        "        Arousal.extend([0]) # uninterested/bored\n",
        "    else:\n",
        "        Arousal.extend([1]) # excited/alert\n",
        "    \n",
        "values = AllRatings['Valence']\n",
        "for i in range(len(values)):\n",
        "    if values[i] <= 4:\n",
        "        Valence.extend([0]) # unpleasant/stressed\n",
        "    else:\n",
        "        Valence.extend([1]) # happy/elated\n",
        "        \n",
        "values = AllRatings['Dominance']\n",
        "for i in range(len(values)):\n",
        "    if values[i]> 4:\n",
        "        Dominance.extend([0]) # helpless/Without Control\n",
        "    else:\n",
        "        Dominance.extend([1]) # Empowered\n",
        "\n",
        "FinalFeature['Arousal'] = Arousal\n",
        "FinalFeature['Valence'] = Valence\n",
        "FinalFeature['Dominance'] = Dominance\n",
        "\n",
        "\n"
      ],
      "execution_count": 30,
      "outputs": []
    },
    {
      "cell_type": "code",
      "metadata": {
        "id": "PxRzCGtqgnK6",
        "colab": {
          "base_uri": "https://localhost:8080/",
          "height": 439
        },
        "outputId": "b4dae174-cbf9-4f74-f260-b333c3cbc87a"
      },
      "source": [
        "dx = pd.DataFrame(FinalFeature)\n",
        "dx"
      ],
      "execution_count": 31,
      "outputs": [
        {
          "output_type": "execute_result",
          "data": {
            "text/plain": [
              "      Feature1  Feature2  Feature3  Feature4  Feature5  Feature6  Feature7  \\\n",
              "0     0.399810 -1.183564  0.800691  0.328107 -4.978387  0.229131  0.177772   \n",
              "1    -0.184464 -0.979555  0.102095  0.028185 -0.202161 -0.245509  0.023804   \n",
              "2   -10.379531  0.374144  0.682109  0.575803 -4.842310  0.017298 -6.372481   \n",
              "3     0.166460  1.676887  0.146557  0.043448  0.343049  0.185492 -0.212113   \n",
              "4     0.935604  4.578757  0.913949  0.530971  4.916748  1.003016 -0.001346   \n",
              "..         ...       ...       ...       ...       ...       ...       ...   \n",
              "409   5.545656  3.336176  2.061960  4.137637  0.466561 -1.281754 -1.976415   \n",
              "410  -1.241642  0.112553  0.689308  0.517814 -5.058218  1.180783  1.778832   \n",
              "411  -2.638845 -2.514038  1.287163  2.850588 -0.966474 -5.171990 -0.366512   \n",
              "412   1.400873 -0.140569  1.055900  1.448882  1.341684 -0.178660 -0.178991   \n",
              "413   0.735350  1.144292  1.696663  3.102878  0.925788 -1.144911 -0.469799   \n",
              "\n",
              "     Feature8  Feature9  Feature10  ...  Feature624  Feature625  Feature626  \\\n",
              "0    0.888415  0.739250  -0.113159  ...    9.302497   11.702069    4.409205   \n",
              "1    0.243781  0.124302  -0.174262  ...    3.686000    4.993588    2.953509   \n",
              "2    1.014596  1.212745   0.411182  ...   12.535871   27.688304   15.394599   \n",
              "3    0.212338  0.067883   0.197870  ...   15.346914   16.837630    6.951336   \n",
              "4    0.484388  0.253078  34.804499  ...    9.071553    4.495763    2.917442   \n",
              "..        ...       ...        ...  ...         ...         ...         ...   \n",
              "409  0.929064  1.169510  -1.670856  ...   36.379542   26.575598   30.877662   \n",
              "410  2.183805  2.919873   1.604151  ...   34.707732   26.108357   23.587527   \n",
              "411  2.988450  3.993974  -1.384841  ...   18.835075   25.187607   28.484518   \n",
              "412  1.312953  1.797478  -0.039673  ...   10.486322   13.178698   21.319507   \n",
              "413  1.650834  2.591887  -2.635898  ...   36.109519   35.852001   28.467602   \n",
              "\n",
              "     Feature627  Feature628  Feature629  Feature630  Arousal  Valence  \\\n",
              "0      4.709369    0.000718    0.009107    0.004324        1        0   \n",
              "1      7.196561    0.001554    0.001088    0.003254        1        0   \n",
              "2     27.796536    0.001183    0.019929    0.074396        1        1   \n",
              "3      7.483065    0.013361    0.019150    0.007573        1        0   \n",
              "4      4.613709    0.000162    0.002568    0.001622        1        0   \n",
              "..          ...         ...         ...         ...      ...      ...   \n",
              "409   24.696717    0.008660    0.074864    0.147115        1        0   \n",
              "410   26.301476    0.008700    0.048718    0.129264        1        0   \n",
              "411   16.023205    0.001278    0.031159    0.101728        1        0   \n",
              "412   18.289449    0.002889    0.007699    0.072044        1        0   \n",
              "413   38.636630    0.137344    0.077233    0.245982        1        0   \n",
              "\n",
              "     Dominance  \n",
              "0            1  \n",
              "1            1  \n",
              "2            1  \n",
              "3            1  \n",
              "4            1  \n",
              "..         ...  \n",
              "409          1  \n",
              "410          1  \n",
              "411          1  \n",
              "412          1  \n",
              "413          1  \n",
              "\n",
              "[414 rows x 633 columns]"
            ],
            "text/html": "<div>\n<style scoped>\n    .dataframe tbody tr th:only-of-type {\n        vertical-align: middle;\n    }\n\n    .dataframe tbody tr th {\n        vertical-align: top;\n    }\n\n    .dataframe thead th {\n        text-align: right;\n    }\n</style>\n<table border=\"1\" class=\"dataframe\">\n  <thead>\n    <tr style=\"text-align: right;\">\n      <th></th>\n      <th>Feature1</th>\n      <th>Feature2</th>\n      <th>Feature3</th>\n      <th>Feature4</th>\n      <th>Feature5</th>\n      <th>Feature6</th>\n      <th>Feature7</th>\n      <th>Feature8</th>\n      <th>Feature9</th>\n      <th>Feature10</th>\n      <th>...</th>\n      <th>Feature624</th>\n      <th>Feature625</th>\n      <th>Feature626</th>\n      <th>Feature627</th>\n      <th>Feature628</th>\n      <th>Feature629</th>\n      <th>Feature630</th>\n      <th>Arousal</th>\n      <th>Valence</th>\n      <th>Dominance</th>\n    </tr>\n  </thead>\n  <tbody>\n    <tr>\n      <th>0</th>\n      <td>0.399810</td>\n      <td>-1.183564</td>\n      <td>0.800691</td>\n      <td>0.328107</td>\n      <td>-4.978387</td>\n      <td>0.229131</td>\n      <td>0.177772</td>\n      <td>0.888415</td>\n      <td>0.739250</td>\n      <td>-0.113159</td>\n      <td>...</td>\n      <td>9.302497</td>\n      <td>11.702069</td>\n      <td>4.409205</td>\n      <td>4.709369</td>\n      <td>0.000718</td>\n      <td>0.009107</td>\n      <td>0.004324</td>\n      <td>1</td>\n      <td>0</td>\n      <td>1</td>\n    </tr>\n    <tr>\n      <th>1</th>\n      <td>-0.184464</td>\n      <td>-0.979555</td>\n      <td>0.102095</td>\n      <td>0.028185</td>\n      <td>-0.202161</td>\n      <td>-0.245509</td>\n      <td>0.023804</td>\n      <td>0.243781</td>\n      <td>0.124302</td>\n      <td>-0.174262</td>\n      <td>...</td>\n      <td>3.686000</td>\n      <td>4.993588</td>\n      <td>2.953509</td>\n      <td>7.196561</td>\n      <td>0.001554</td>\n      <td>0.001088</td>\n      <td>0.003254</td>\n      <td>1</td>\n      <td>0</td>\n      <td>1</td>\n    </tr>\n    <tr>\n      <th>2</th>\n      <td>-10.379531</td>\n      <td>0.374144</td>\n      <td>0.682109</td>\n      <td>0.575803</td>\n      <td>-4.842310</td>\n      <td>0.017298</td>\n      <td>-6.372481</td>\n      <td>1.014596</td>\n      <td>1.212745</td>\n      <td>0.411182</td>\n      <td>...</td>\n      <td>12.535871</td>\n      <td>27.688304</td>\n      <td>15.394599</td>\n      <td>27.796536</td>\n      <td>0.001183</td>\n      <td>0.019929</td>\n      <td>0.074396</td>\n      <td>1</td>\n      <td>1</td>\n      <td>1</td>\n    </tr>\n    <tr>\n      <th>3</th>\n      <td>0.166460</td>\n      <td>1.676887</td>\n      <td>0.146557</td>\n      <td>0.043448</td>\n      <td>0.343049</td>\n      <td>0.185492</td>\n      <td>-0.212113</td>\n      <td>0.212338</td>\n      <td>0.067883</td>\n      <td>0.197870</td>\n      <td>...</td>\n      <td>15.346914</td>\n      <td>16.837630</td>\n      <td>6.951336</td>\n      <td>7.483065</td>\n      <td>0.013361</td>\n      <td>0.019150</td>\n      <td>0.007573</td>\n      <td>1</td>\n      <td>0</td>\n      <td>1</td>\n    </tr>\n    <tr>\n      <th>4</th>\n      <td>0.935604</td>\n      <td>4.578757</td>\n      <td>0.913949</td>\n      <td>0.530971</td>\n      <td>4.916748</td>\n      <td>1.003016</td>\n      <td>-0.001346</td>\n      <td>0.484388</td>\n      <td>0.253078</td>\n      <td>34.804499</td>\n      <td>...</td>\n      <td>9.071553</td>\n      <td>4.495763</td>\n      <td>2.917442</td>\n      <td>4.613709</td>\n      <td>0.000162</td>\n      <td>0.002568</td>\n      <td>0.001622</td>\n      <td>1</td>\n      <td>0</td>\n      <td>1</td>\n    </tr>\n    <tr>\n      <th>...</th>\n      <td>...</td>\n      <td>...</td>\n      <td>...</td>\n      <td>...</td>\n      <td>...</td>\n      <td>...</td>\n      <td>...</td>\n      <td>...</td>\n      <td>...</td>\n      <td>...</td>\n      <td>...</td>\n      <td>...</td>\n      <td>...</td>\n      <td>...</td>\n      <td>...</td>\n      <td>...</td>\n      <td>...</td>\n      <td>...</td>\n      <td>...</td>\n      <td>...</td>\n      <td>...</td>\n    </tr>\n    <tr>\n      <th>409</th>\n      <td>5.545656</td>\n      <td>3.336176</td>\n      <td>2.061960</td>\n      <td>4.137637</td>\n      <td>0.466561</td>\n      <td>-1.281754</td>\n      <td>-1.976415</td>\n      <td>0.929064</td>\n      <td>1.169510</td>\n      <td>-1.670856</td>\n      <td>...</td>\n      <td>36.379542</td>\n      <td>26.575598</td>\n      <td>30.877662</td>\n      <td>24.696717</td>\n      <td>0.008660</td>\n      <td>0.074864</td>\n      <td>0.147115</td>\n      <td>1</td>\n      <td>0</td>\n      <td>1</td>\n    </tr>\n    <tr>\n      <th>410</th>\n      <td>-1.241642</td>\n      <td>0.112553</td>\n      <td>0.689308</td>\n      <td>0.517814</td>\n      <td>-5.058218</td>\n      <td>1.180783</td>\n      <td>1.778832</td>\n      <td>2.183805</td>\n      <td>2.919873</td>\n      <td>1.604151</td>\n      <td>...</td>\n      <td>34.707732</td>\n      <td>26.108357</td>\n      <td>23.587527</td>\n      <td>26.301476</td>\n      <td>0.008700</td>\n      <td>0.048718</td>\n      <td>0.129264</td>\n      <td>1</td>\n      <td>0</td>\n      <td>1</td>\n    </tr>\n    <tr>\n      <th>411</th>\n      <td>-2.638845</td>\n      <td>-2.514038</td>\n      <td>1.287163</td>\n      <td>2.850588</td>\n      <td>-0.966474</td>\n      <td>-5.171990</td>\n      <td>-0.366512</td>\n      <td>2.988450</td>\n      <td>3.993974</td>\n      <td>-1.384841</td>\n      <td>...</td>\n      <td>18.835075</td>\n      <td>25.187607</td>\n      <td>28.484518</td>\n      <td>16.023205</td>\n      <td>0.001278</td>\n      <td>0.031159</td>\n      <td>0.101728</td>\n      <td>1</td>\n      <td>0</td>\n      <td>1</td>\n    </tr>\n    <tr>\n      <th>412</th>\n      <td>1.400873</td>\n      <td>-0.140569</td>\n      <td>1.055900</td>\n      <td>1.448882</td>\n      <td>1.341684</td>\n      <td>-0.178660</td>\n      <td>-0.178991</td>\n      <td>1.312953</td>\n      <td>1.797478</td>\n      <td>-0.039673</td>\n      <td>...</td>\n      <td>10.486322</td>\n      <td>13.178698</td>\n      <td>21.319507</td>\n      <td>18.289449</td>\n      <td>0.002889</td>\n      <td>0.007699</td>\n      <td>0.072044</td>\n      <td>1</td>\n      <td>0</td>\n      <td>1</td>\n    </tr>\n    <tr>\n      <th>413</th>\n      <td>0.735350</td>\n      <td>1.144292</td>\n      <td>1.696663</td>\n      <td>3.102878</td>\n      <td>0.925788</td>\n      <td>-1.144911</td>\n      <td>-0.469799</td>\n      <td>1.650834</td>\n      <td>2.591887</td>\n      <td>-2.635898</td>\n      <td>...</td>\n      <td>36.109519</td>\n      <td>35.852001</td>\n      <td>28.467602</td>\n      <td>38.636630</td>\n      <td>0.137344</td>\n      <td>0.077233</td>\n      <td>0.245982</td>\n      <td>1</td>\n      <td>0</td>\n      <td>1</td>\n    </tr>\n  </tbody>\n</table>\n<p>414 rows × 633 columns</p>\n</div>"
          },
          "metadata": {},
          "execution_count": 31
        }
      ]
    },
    {
      "cell_type": "code",
      "metadata": {
        "id": "7jMa5t2hBzO7",
        "colab": {
          "base_uri": "https://localhost:8080/",
          "height": 272
        },
        "outputId": "cc8fb348-9973-40e1-936a-9253d081fec4"
      },
      "source": [
        "arousal = dx['Arousal']\n",
        "valence = dx['Valence']\n",
        "dominance = dx['Dominance']\n",
        "fig, (ax1, ax2, ax3) = plt.subplots(1, 3, figsize=(20, 7))\n",
        "Arousalcountz = 0\n",
        "Arousalcountone = 0\n",
        "for i in arousal:\n",
        "    if i == 0:\n",
        "        Arousalcountz = Arousalcountz+1\n",
        "    else:\n",
        "        Arousalcountone = Arousalcountone+1\n",
        "\n",
        "\n",
        "# Creating plot \n",
        "ax1.pie([Arousalcountz,Arousalcountone], labels = ['Low = '+str(Arousalcountz),'High = '+str(Arousalcountone)]) \n",
        "ax1.set_title('Arousal')\n",
        "\n",
        "# show plot \n",
        "\n",
        "Valencecountz = 0\n",
        "Valencecountone = 0\n",
        "for i in valence:\n",
        "    if i == 0:\n",
        "        Valencecountz = Valencecountz+1\n",
        "    else:\n",
        "        Valencecountone = Valencecountone+1\n",
        "\n",
        "# Creating plot \n",
        "\n",
        "ax2.pie([Valencecountz,Valencecountone], labels = ['Low = '+str(Valencecountz),'High = '+str(Valencecountone)]) \n",
        "ax2.set_title('Valence')\n",
        "\n",
        "Dominancecountz = 0\n",
        "Dominancecountone = 0\n",
        "for i in dominance:\n",
        "    if i == 0:\n",
        "        Dominancecountz = Dominancecountz+1\n",
        "    else:\n",
        "        Dominancecountone = Dominancecountone+1\n",
        "# Creating plot \n",
        "\n",
        "ax3.pie([Dominancecountz,Dominancecountone], labels = ['Low = '+str(Dominancecountz),'High = '+str(Dominancecountone)]) \n",
        "ax3.set_title('Dominance')\n",
        "\n",
        "plt.show() "
      ],
      "execution_count": 32,
      "outputs": [
        {
          "output_type": "display_data",
          "data": {
            "text/plain": "<Figure size 1440x504 with 3 Axes>",
            "image/svg+xml": "<?xml version=\"1.0\" encoding=\"utf-8\" standalone=\"no\"?>\r\n<!DOCTYPE svg PUBLIC \"-//W3C//DTD SVG 1.1//EN\"\r\n  \"http://www.w3.org/Graphics/SVG/1.1/DTD/svg11.dtd\">\r\n<!-- Created with matplotlib (https://matplotlib.org/) -->\r\n<svg height=\"357.753419pt\" version=\"1.1\" viewBox=\"0 0 1175.929217 357.753419\" width=\"1175.929217pt\" xmlns=\"http://www.w3.org/2000/svg\" xmlns:xlink=\"http://www.w3.org/1999/xlink\">\r\n <metadata>\r\n  <rdf:RDF xmlns:cc=\"http://creativecommons.org/ns#\" xmlns:dc=\"http://purl.org/dc/elements/1.1/\" xmlns:rdf=\"http://www.w3.org/1999/02/22-rdf-syntax-ns#\">\r\n   <cc:Work>\r\n    <dc:type rdf:resource=\"http://purl.org/dc/dcmitype/StillImage\"/>\r\n    <dc:date>2021-04-27T23:52:46.436381</dc:date>\r\n    <dc:format>image/svg+xml</dc:format>\r\n    <dc:creator>\r\n     <cc:Agent>\r\n      <dc:title>Matplotlib v3.3.4, https://matplotlib.org/</dc:title>\r\n     </cc:Agent>\r\n    </dc:creator>\r\n   </cc:Work>\r\n  </rdf:RDF>\r\n </metadata>\r\n <defs>\r\n  <style type=\"text/css\">*{stroke-linecap:butt;stroke-linejoin:round;}</style>\r\n </defs>\r\n <g id=\"figure_1\">\r\n  <g id=\"patch_1\">\r\n   <path d=\"M 0 357.753419 \r\nL 1175.929217 357.753419 \r\nL 1175.929217 0 \r\nL 0 0 \r\nz\r\n\" style=\"fill:none;\"/>\r\n  </g>\r\n  <g id=\"axes_1\">\r\n   <g id=\"patch_2\">\r\n    <path d=\"M 337.895563 186.435772 \r\nC 337.895563 179.45791 337.339286 172.491138 336.232021 165.601688 \r\nC 335.124756 158.712237 333.470023 151.922008 331.283552 145.295553 \r\nL 206.601445 186.435772 \r\nL 337.895563 186.435772 \r\nz\r\n\" style=\"fill:#1f77b4;\"/>\r\n   </g>\r\n   <g id=\"patch_3\">\r\n    <path d=\"M 331.283552 145.295553 \r\nC 326.15672 129.757857 318.170346 115.314536 307.736718 102.711212 \r\nC 297.30309 90.107887 284.604893 79.565234 270.297661 71.627508 \r\nC 255.990429 63.689782 240.324671 58.495967 224.109116 56.314187 \r\nC 207.893561 54.132408 191.412132 55.000866 175.515668 58.874729 \r\nC 159.619204 62.748591 144.58604 69.560029 131.192249 78.957409 \r\nC 117.798458 88.354789 106.278556 100.17357 97.227247 113.803617 \r\nC 88.175937 127.433664 81.751703 142.636325 78.286188 158.626779 \r\nC 74.820674 174.617232 74.374557 191.115495 76.97087 207.269861 \r\nC 79.567183 223.424227 85.160465 238.951845 93.461968 253.051115 \r\nC 101.763471 267.150386 112.627842 279.574441 125.494219 289.681901 \r\nC 138.360595 299.789361 153.003695 307.403251 168.667584 312.130511 \r\nC 184.331472 316.857772 200.741884 318.615632 217.051649 317.313343 \r\nC 233.361414 316.011054 249.284959 311.67142 264.000246 304.518468 \r\nC 278.715532 297.365516 291.964907 287.524491 303.064383 275.503426 \r\nC 314.16386 263.48236 322.919093 249.491735 328.878104 234.253803 \r\nC 334.837115 219.015871 337.895564 202.797437 337.895563 186.435763 \r\nL 206.601445 186.435772 \r\nL 331.283552 145.295553 \r\nz\r\n\" style=\"fill:#ff7f0e;\"/>\r\n   </g>\r\n   <g id=\"matplotlib.axis_1\"/>\r\n   <g id=\"matplotlib.axis_2\"/>\r\n   <g id=\"text_1\">\r\n    <!-- Low = 21 -->\r\n    <g transform=\"translate(349.195079 166.277654)scale(0.1 -0.1)\">\r\n     <defs>\r\n      <path d=\"M 9.8125 72.90625 \r\nL 19.671875 72.90625 \r\nL 19.671875 8.296875 \r\nL 55.171875 8.296875 \r\nL 55.171875 0 \r\nL 9.8125 0 \r\nz\r\n\" id=\"DejaVuSans-76\"/>\r\n      <path d=\"M 30.609375 48.390625 \r\nQ 23.390625 48.390625 19.1875 42.75 \r\nQ 14.984375 37.109375 14.984375 27.296875 \r\nQ 14.984375 17.484375 19.15625 11.84375 \r\nQ 23.34375 6.203125 30.609375 6.203125 \r\nQ 37.796875 6.203125 41.984375 11.859375 \r\nQ 46.1875 17.53125 46.1875 27.296875 \r\nQ 46.1875 37.015625 41.984375 42.703125 \r\nQ 37.796875 48.390625 30.609375 48.390625 \r\nz\r\nM 30.609375 56 \r\nQ 42.328125 56 49.015625 48.375 \r\nQ 55.71875 40.765625 55.71875 27.296875 \r\nQ 55.71875 13.875 49.015625 6.21875 \r\nQ 42.328125 -1.421875 30.609375 -1.421875 \r\nQ 18.84375 -1.421875 12.171875 6.21875 \r\nQ 5.515625 13.875 5.515625 27.296875 \r\nQ 5.515625 40.765625 12.171875 48.375 \r\nQ 18.84375 56 30.609375 56 \r\nz\r\n\" id=\"DejaVuSans-111\"/>\r\n      <path d=\"M 4.203125 54.6875 \r\nL 13.1875 54.6875 \r\nL 24.421875 12.015625 \r\nL 35.59375 54.6875 \r\nL 46.1875 54.6875 \r\nL 57.421875 12.015625 \r\nL 68.609375 54.6875 \r\nL 77.59375 54.6875 \r\nL 63.28125 0 \r\nL 52.6875 0 \r\nL 40.921875 44.828125 \r\nL 29.109375 0 \r\nL 18.5 0 \r\nz\r\n\" id=\"DejaVuSans-119\"/>\r\n      <path id=\"DejaVuSans-32\"/>\r\n      <path d=\"M 10.59375 45.40625 \r\nL 73.1875 45.40625 \r\nL 73.1875 37.203125 \r\nL 10.59375 37.203125 \r\nz\r\nM 10.59375 25.484375 \r\nL 73.1875 25.484375 \r\nL 73.1875 17.1875 \r\nL 10.59375 17.1875 \r\nz\r\n\" id=\"DejaVuSans-61\"/>\r\n      <path d=\"M 19.1875 8.296875 \r\nL 53.609375 8.296875 \r\nL 53.609375 0 \r\nL 7.328125 0 \r\nL 7.328125 8.296875 \r\nQ 12.9375 14.109375 22.625 23.890625 \r\nQ 32.328125 33.6875 34.8125 36.53125 \r\nQ 39.546875 41.84375 41.421875 45.53125 \r\nQ 43.3125 49.21875 43.3125 52.78125 \r\nQ 43.3125 58.59375 39.234375 62.25 \r\nQ 35.15625 65.921875 28.609375 65.921875 \r\nQ 23.96875 65.921875 18.8125 64.3125 \r\nQ 13.671875 62.703125 7.8125 59.421875 \r\nL 7.8125 69.390625 \r\nQ 13.765625 71.78125 18.9375 73 \r\nQ 24.125 74.21875 28.421875 74.21875 \r\nQ 39.75 74.21875 46.484375 68.546875 \r\nQ 53.21875 62.890625 53.21875 53.421875 \r\nQ 53.21875 48.921875 51.53125 44.890625 \r\nQ 49.859375 40.875 45.40625 35.40625 \r\nQ 44.1875 33.984375 37.640625 27.21875 \r\nQ 31.109375 20.453125 19.1875 8.296875 \r\nz\r\n\" id=\"DejaVuSans-50\"/>\r\n      <path d=\"M 12.40625 8.296875 \r\nL 28.515625 8.296875 \r\nL 28.515625 63.921875 \r\nL 10.984375 60.40625 \r\nL 10.984375 69.390625 \r\nL 28.421875 72.90625 \r\nL 38.28125 72.90625 \r\nL 38.28125 8.296875 \r\nL 54.390625 8.296875 \r\nL 54.390625 0 \r\nL 12.40625 0 \r\nz\r\n\" id=\"DejaVuSans-49\"/>\r\n     </defs>\r\n     <use xlink:href=\"#DejaVuSans-76\"/>\r\n     <use x=\"53.962891\" xlink:href=\"#DejaVuSans-111\"/>\r\n     <use x=\"115.144531\" xlink:href=\"#DejaVuSans-119\"/>\r\n     <use x=\"196.931641\" xlink:href=\"#DejaVuSans-32\"/>\r\n     <use x=\"228.71875\" xlink:href=\"#DejaVuSans-61\"/>\r\n     <use x=\"312.507812\" xlink:href=\"#DejaVuSans-32\"/>\r\n     <use x=\"344.294922\" xlink:href=\"#DejaVuSans-50\"/>\r\n     <use x=\"407.917969\" xlink:href=\"#DejaVuSans-49\"/>\r\n    </g>\r\n   </g>\r\n   <g id=\"text_2\">\r\n    <!-- High = 393 -->\r\n    <g transform=\"translate(7.2 212.112645)scale(0.1 -0.1)\">\r\n     <defs>\r\n      <path d=\"M 9.8125 72.90625 \r\nL 19.671875 72.90625 \r\nL 19.671875 43.015625 \r\nL 55.515625 43.015625 \r\nL 55.515625 72.90625 \r\nL 65.375 72.90625 \r\nL 65.375 0 \r\nL 55.515625 0 \r\nL 55.515625 34.71875 \r\nL 19.671875 34.71875 \r\nL 19.671875 0 \r\nL 9.8125 0 \r\nz\r\n\" id=\"DejaVuSans-72\"/>\r\n      <path d=\"M 9.421875 54.6875 \r\nL 18.40625 54.6875 \r\nL 18.40625 0 \r\nL 9.421875 0 \r\nz\r\nM 9.421875 75.984375 \r\nL 18.40625 75.984375 \r\nL 18.40625 64.59375 \r\nL 9.421875 64.59375 \r\nz\r\n\" id=\"DejaVuSans-105\"/>\r\n      <path d=\"M 45.40625 27.984375 \r\nQ 45.40625 37.75 41.375 43.109375 \r\nQ 37.359375 48.484375 30.078125 48.484375 \r\nQ 22.859375 48.484375 18.828125 43.109375 \r\nQ 14.796875 37.75 14.796875 27.984375 \r\nQ 14.796875 18.265625 18.828125 12.890625 \r\nQ 22.859375 7.515625 30.078125 7.515625 \r\nQ 37.359375 7.515625 41.375 12.890625 \r\nQ 45.40625 18.265625 45.40625 27.984375 \r\nz\r\nM 54.390625 6.78125 \r\nQ 54.390625 -7.171875 48.1875 -13.984375 \r\nQ 42 -20.796875 29.203125 -20.796875 \r\nQ 24.46875 -20.796875 20.265625 -20.09375 \r\nQ 16.0625 -19.390625 12.109375 -17.921875 \r\nL 12.109375 -9.1875 \r\nQ 16.0625 -11.328125 19.921875 -12.34375 \r\nQ 23.78125 -13.375 27.78125 -13.375 \r\nQ 36.625 -13.375 41.015625 -8.765625 \r\nQ 45.40625 -4.15625 45.40625 5.171875 \r\nL 45.40625 9.625 \r\nQ 42.625 4.78125 38.28125 2.390625 \r\nQ 33.9375 0 27.875 0 \r\nQ 17.828125 0 11.671875 7.65625 \r\nQ 5.515625 15.328125 5.515625 27.984375 \r\nQ 5.515625 40.671875 11.671875 48.328125 \r\nQ 17.828125 56 27.875 56 \r\nQ 33.9375 56 38.28125 53.609375 \r\nQ 42.625 51.21875 45.40625 46.390625 \r\nL 45.40625 54.6875 \r\nL 54.390625 54.6875 \r\nz\r\n\" id=\"DejaVuSans-103\"/>\r\n      <path d=\"M 54.890625 33.015625 \r\nL 54.890625 0 \r\nL 45.90625 0 \r\nL 45.90625 32.71875 \r\nQ 45.90625 40.484375 42.875 44.328125 \r\nQ 39.84375 48.1875 33.796875 48.1875 \r\nQ 26.515625 48.1875 22.3125 43.546875 \r\nQ 18.109375 38.921875 18.109375 30.90625 \r\nL 18.109375 0 \r\nL 9.078125 0 \r\nL 9.078125 75.984375 \r\nL 18.109375 75.984375 \r\nL 18.109375 46.1875 \r\nQ 21.34375 51.125 25.703125 53.5625 \r\nQ 30.078125 56 35.796875 56 \r\nQ 45.21875 56 50.046875 50.171875 \r\nQ 54.890625 44.34375 54.890625 33.015625 \r\nz\r\n\" id=\"DejaVuSans-104\"/>\r\n      <path d=\"M 40.578125 39.3125 \r\nQ 47.65625 37.796875 51.625 33 \r\nQ 55.609375 28.21875 55.609375 21.1875 \r\nQ 55.609375 10.40625 48.1875 4.484375 \r\nQ 40.765625 -1.421875 27.09375 -1.421875 \r\nQ 22.515625 -1.421875 17.65625 -0.515625 \r\nQ 12.796875 0.390625 7.625 2.203125 \r\nL 7.625 11.71875 \r\nQ 11.71875 9.328125 16.59375 8.109375 \r\nQ 21.484375 6.890625 26.8125 6.890625 \r\nQ 36.078125 6.890625 40.9375 10.546875 \r\nQ 45.796875 14.203125 45.796875 21.1875 \r\nQ 45.796875 27.640625 41.28125 31.265625 \r\nQ 36.765625 34.90625 28.71875 34.90625 \r\nL 20.21875 34.90625 \r\nL 20.21875 43.015625 \r\nL 29.109375 43.015625 \r\nQ 36.375 43.015625 40.234375 45.921875 \r\nQ 44.09375 48.828125 44.09375 54.296875 \r\nQ 44.09375 59.90625 40.109375 62.90625 \r\nQ 36.140625 65.921875 28.71875 65.921875 \r\nQ 24.65625 65.921875 20.015625 65.03125 \r\nQ 15.375 64.15625 9.8125 62.3125 \r\nL 9.8125 71.09375 \r\nQ 15.4375 72.65625 20.34375 73.4375 \r\nQ 25.25 74.21875 29.59375 74.21875 \r\nQ 40.828125 74.21875 47.359375 69.109375 \r\nQ 53.90625 64.015625 53.90625 55.328125 \r\nQ 53.90625 49.265625 50.4375 45.09375 \r\nQ 46.96875 40.921875 40.578125 39.3125 \r\nz\r\n\" id=\"DejaVuSans-51\"/>\r\n      <path d=\"M 10.984375 1.515625 \r\nL 10.984375 10.5 \r\nQ 14.703125 8.734375 18.5 7.8125 \r\nQ 22.3125 6.890625 25.984375 6.890625 \r\nQ 35.75 6.890625 40.890625 13.453125 \r\nQ 46.046875 20.015625 46.78125 33.40625 \r\nQ 43.953125 29.203125 39.59375 26.953125 \r\nQ 35.25 24.703125 29.984375 24.703125 \r\nQ 19.046875 24.703125 12.671875 31.3125 \r\nQ 6.296875 37.9375 6.296875 49.421875 \r\nQ 6.296875 60.640625 12.9375 67.421875 \r\nQ 19.578125 74.21875 30.609375 74.21875 \r\nQ 43.265625 74.21875 49.921875 64.515625 \r\nQ 56.59375 54.828125 56.59375 36.375 \r\nQ 56.59375 19.140625 48.40625 8.859375 \r\nQ 40.234375 -1.421875 26.421875 -1.421875 \r\nQ 22.703125 -1.421875 18.890625 -0.6875 \r\nQ 15.09375 0.046875 10.984375 1.515625 \r\nz\r\nM 30.609375 32.421875 \r\nQ 37.25 32.421875 41.125 36.953125 \r\nQ 45.015625 41.5 45.015625 49.421875 \r\nQ 45.015625 57.28125 41.125 61.84375 \r\nQ 37.25 66.40625 30.609375 66.40625 \r\nQ 23.96875 66.40625 20.09375 61.84375 \r\nQ 16.21875 57.28125 16.21875 49.421875 \r\nQ 16.21875 41.5 20.09375 36.953125 \r\nQ 23.96875 32.421875 30.609375 32.421875 \r\nz\r\n\" id=\"DejaVuSans-57\"/>\r\n     </defs>\r\n     <use xlink:href=\"#DejaVuSans-72\"/>\r\n     <use x=\"75.195312\" xlink:href=\"#DejaVuSans-105\"/>\r\n     <use x=\"102.978516\" xlink:href=\"#DejaVuSans-103\"/>\r\n     <use x=\"166.455078\" xlink:href=\"#DejaVuSans-104\"/>\r\n     <use x=\"229.833984\" xlink:href=\"#DejaVuSans-32\"/>\r\n     <use x=\"261.621094\" xlink:href=\"#DejaVuSans-61\"/>\r\n     <use x=\"345.410156\" xlink:href=\"#DejaVuSans-32\"/>\r\n     <use x=\"377.197266\" xlink:href=\"#DejaVuSans-51\"/>\r\n     <use x=\"440.820312\" xlink:href=\"#DejaVuSans-57\"/>\r\n     <use x=\"504.443359\" xlink:href=\"#DejaVuSans-51\"/>\r\n    </g>\r\n   </g>\r\n   <g id=\"text_3\">\r\n    <!-- Arousal -->\r\n    <g transform=\"translate(184.222383 16.318125)scale(0.12 -0.12)\">\r\n     <defs>\r\n      <path d=\"M 34.1875 63.1875 \r\nL 20.796875 26.90625 \r\nL 47.609375 26.90625 \r\nz\r\nM 28.609375 72.90625 \r\nL 39.796875 72.90625 \r\nL 67.578125 0 \r\nL 57.328125 0 \r\nL 50.6875 18.703125 \r\nL 17.828125 18.703125 \r\nL 11.1875 0 \r\nL 0.78125 0 \r\nz\r\n\" id=\"DejaVuSans-65\"/>\r\n      <path d=\"M 41.109375 46.296875 \r\nQ 39.59375 47.171875 37.8125 47.578125 \r\nQ 36.03125 48 33.890625 48 \r\nQ 26.265625 48 22.1875 43.046875 \r\nQ 18.109375 38.09375 18.109375 28.8125 \r\nL 18.109375 0 \r\nL 9.078125 0 \r\nL 9.078125 54.6875 \r\nL 18.109375 54.6875 \r\nL 18.109375 46.1875 \r\nQ 20.953125 51.171875 25.484375 53.578125 \r\nQ 30.03125 56 36.53125 56 \r\nQ 37.453125 56 38.578125 55.875 \r\nQ 39.703125 55.765625 41.0625 55.515625 \r\nz\r\n\" id=\"DejaVuSans-114\"/>\r\n      <path d=\"M 8.5 21.578125 \r\nL 8.5 54.6875 \r\nL 17.484375 54.6875 \r\nL 17.484375 21.921875 \r\nQ 17.484375 14.15625 20.5 10.265625 \r\nQ 23.53125 6.390625 29.59375 6.390625 \r\nQ 36.859375 6.390625 41.078125 11.03125 \r\nQ 45.3125 15.671875 45.3125 23.6875 \r\nL 45.3125 54.6875 \r\nL 54.296875 54.6875 \r\nL 54.296875 0 \r\nL 45.3125 0 \r\nL 45.3125 8.40625 \r\nQ 42.046875 3.421875 37.71875 1 \r\nQ 33.40625 -1.421875 27.6875 -1.421875 \r\nQ 18.265625 -1.421875 13.375 4.4375 \r\nQ 8.5 10.296875 8.5 21.578125 \r\nz\r\nM 31.109375 56 \r\nz\r\n\" id=\"DejaVuSans-117\"/>\r\n      <path d=\"M 44.28125 53.078125 \r\nL 44.28125 44.578125 \r\nQ 40.484375 46.53125 36.375 47.5 \r\nQ 32.28125 48.484375 27.875 48.484375 \r\nQ 21.1875 48.484375 17.84375 46.4375 \r\nQ 14.5 44.390625 14.5 40.28125 \r\nQ 14.5 37.15625 16.890625 35.375 \r\nQ 19.28125 33.59375 26.515625 31.984375 \r\nL 29.59375 31.296875 \r\nQ 39.15625 29.25 43.1875 25.515625 \r\nQ 47.21875 21.78125 47.21875 15.09375 \r\nQ 47.21875 7.46875 41.1875 3.015625 \r\nQ 35.15625 -1.421875 24.609375 -1.421875 \r\nQ 20.21875 -1.421875 15.453125 -0.5625 \r\nQ 10.6875 0.296875 5.421875 2 \r\nL 5.421875 11.28125 \r\nQ 10.40625 8.6875 15.234375 7.390625 \r\nQ 20.0625 6.109375 24.8125 6.109375 \r\nQ 31.15625 6.109375 34.5625 8.28125 \r\nQ 37.984375 10.453125 37.984375 14.40625 \r\nQ 37.984375 18.0625 35.515625 20.015625 \r\nQ 33.0625 21.96875 24.703125 23.78125 \r\nL 21.578125 24.515625 \r\nQ 13.234375 26.265625 9.515625 29.90625 \r\nQ 5.8125 33.546875 5.8125 39.890625 \r\nQ 5.8125 47.609375 11.28125 51.796875 \r\nQ 16.75 56 26.8125 56 \r\nQ 31.78125 56 36.171875 55.265625 \r\nQ 40.578125 54.546875 44.28125 53.078125 \r\nz\r\n\" id=\"DejaVuSans-115\"/>\r\n      <path d=\"M 34.28125 27.484375 \r\nQ 23.390625 27.484375 19.1875 25 \r\nQ 14.984375 22.515625 14.984375 16.5 \r\nQ 14.984375 11.71875 18.140625 8.90625 \r\nQ 21.296875 6.109375 26.703125 6.109375 \r\nQ 34.1875 6.109375 38.703125 11.40625 \r\nQ 43.21875 16.703125 43.21875 25.484375 \r\nL 43.21875 27.484375 \r\nz\r\nM 52.203125 31.203125 \r\nL 52.203125 0 \r\nL 43.21875 0 \r\nL 43.21875 8.296875 \r\nQ 40.140625 3.328125 35.546875 0.953125 \r\nQ 30.953125 -1.421875 24.3125 -1.421875 \r\nQ 15.921875 -1.421875 10.953125 3.296875 \r\nQ 6 8.015625 6 15.921875 \r\nQ 6 25.140625 12.171875 29.828125 \r\nQ 18.359375 34.515625 30.609375 34.515625 \r\nL 43.21875 34.515625 \r\nL 43.21875 35.40625 \r\nQ 43.21875 41.609375 39.140625 45 \r\nQ 35.0625 48.390625 27.6875 48.390625 \r\nQ 23 48.390625 18.546875 47.265625 \r\nQ 14.109375 46.140625 10.015625 43.890625 \r\nL 10.015625 52.203125 \r\nQ 14.9375 54.109375 19.578125 55.046875 \r\nQ 24.21875 56 28.609375 56 \r\nQ 40.484375 56 46.34375 49.84375 \r\nQ 52.203125 43.703125 52.203125 31.203125 \r\nz\r\n\" id=\"DejaVuSans-97\"/>\r\n      <path d=\"M 9.421875 75.984375 \r\nL 18.40625 75.984375 \r\nL 18.40625 0 \r\nL 9.421875 0 \r\nz\r\n\" id=\"DejaVuSans-108\"/>\r\n     </defs>\r\n     <use xlink:href=\"#DejaVuSans-65\"/>\r\n     <use x=\"68.408203\" xlink:href=\"#DejaVuSans-114\"/>\r\n     <use x=\"107.271484\" xlink:href=\"#DejaVuSans-111\"/>\r\n     <use x=\"168.453125\" xlink:href=\"#DejaVuSans-117\"/>\r\n     <use x=\"231.832031\" xlink:href=\"#DejaVuSans-115\"/>\r\n     <use x=\"283.931641\" xlink:href=\"#DejaVuSans-97\"/>\r\n     <use x=\"345.210938\" xlink:href=\"#DejaVuSans-108\"/>\r\n    </g>\r\n   </g>\r\n  </g>\r\n  <g id=\"axes_2\">\r\n   <g id=\"patch_4\">\r\n    <path d=\"M 731.777916 186.435772 \r\nC 731.777916 171.496713 729.228196 156.666646 724.238764 142.585416 \r\nC 719.249333 128.504186 711.892992 115.377259 702.487134 103.770998 \r\nC 693.081275 92.164736 681.763144 82.248494 669.021062 74.450108 \r\nC 656.27898 66.651722 642.298873 61.084983 627.683916 57.990068 \r\nC 613.068959 54.895153 598.032405 54.317221 583.223008 56.281208 \r\nC 568.413612 58.245195 554.047464 62.722444 540.744394 69.519781 \r\nC 527.441324 76.317119 515.395443 85.335363 505.126474 96.18542 \r\nC 494.857504 107.035477 486.515285 119.559029 480.459742 133.215744 \r\nC 474.4042 146.87246 470.723693 161.463067 469.577019 176.358054 \r\nC 468.430344 191.25304 469.834233 206.235064 473.728115 220.657725 \r\nC 477.621997 235.080387 483.949054 248.733236 492.436304 261.027221 \r\nC 500.923554 273.321206 511.447156 284.076937 523.553068 292.830358 \r\nC 535.658979 301.58378 549.170557 308.207165 563.504842 312.414747 \r\nC 577.839127 316.622329 592.78696 318.352714 607.703416 317.531243 \r\nC 622.619872 316.709772 637.287297 313.348432 651.072863 307.592249 \r\nC 664.858429 301.836065 677.560984 293.76903 688.632474 283.739196 \r\nL 600.483798 186.435772 \r\nL 731.777916 186.435772 \r\nz\r\n\" style=\"fill:#1f77b4;\"/>\r\n   </g>\r\n   <g id=\"patch_5\">\r\n    <path d=\"M 688.632474 283.739196 \r\nC 702.218304 271.431583 713.077099 256.413955 720.507857 239.655794 \r\nC 727.938614 222.897633 731.777918 204.767484 731.777916 186.43576 \r\nL 600.483798 186.435772 \r\nL 688.632474 283.739196 \r\nz\r\n\" style=\"fill:#ff7f0e;\"/>\r\n   </g>\r\n   <g id=\"matplotlib.axis_3\"/>\r\n   <g id=\"matplotlib.axis_4\"/>\r\n   <g id=\"text_4\">\r\n    <!-- Low = 359 -->\r\n    <g transform=\"translate(414.940149 130.653117)scale(0.1 -0.1)\">\r\n     <defs>\r\n      <path d=\"M 10.796875 72.90625 \r\nL 49.515625 72.90625 \r\nL 49.515625 64.59375 \r\nL 19.828125 64.59375 \r\nL 19.828125 46.734375 \r\nQ 21.96875 47.46875 24.109375 47.828125 \r\nQ 26.265625 48.1875 28.421875 48.1875 \r\nQ 40.625 48.1875 47.75 41.5 \r\nQ 54.890625 34.8125 54.890625 23.390625 \r\nQ 54.890625 11.625 47.5625 5.09375 \r\nQ 40.234375 -1.421875 26.90625 -1.421875 \r\nQ 22.3125 -1.421875 17.546875 -0.640625 \r\nQ 12.796875 0.140625 7.71875 1.703125 \r\nL 7.71875 11.625 \r\nQ 12.109375 9.234375 16.796875 8.0625 \r\nQ 21.484375 6.890625 26.703125 6.890625 \r\nQ 35.15625 6.890625 40.078125 11.328125 \r\nQ 45.015625 15.765625 45.015625 23.390625 \r\nQ 45.015625 31 40.078125 35.4375 \r\nQ 35.15625 39.890625 26.703125 39.890625 \r\nQ 22.75 39.890625 18.8125 39.015625 \r\nQ 14.890625 38.140625 10.796875 36.28125 \r\nz\r\n\" id=\"DejaVuSans-53\"/>\r\n     </defs>\r\n     <use xlink:href=\"#DejaVuSans-76\"/>\r\n     <use x=\"53.962891\" xlink:href=\"#DejaVuSans-111\"/>\r\n     <use x=\"115.144531\" xlink:href=\"#DejaVuSans-119\"/>\r\n     <use x=\"196.931641\" xlink:href=\"#DejaVuSans-32\"/>\r\n     <use x=\"228.71875\" xlink:href=\"#DejaVuSans-61\"/>\r\n     <use x=\"312.507812\" xlink:href=\"#DejaVuSans-32\"/>\r\n     <use x=\"344.294922\" xlink:href=\"#DejaVuSans-51\"/>\r\n     <use x=\"407.917969\" xlink:href=\"#DejaVuSans-53\"/>\r\n     <use x=\"471.541016\" xlink:href=\"#DejaVuSans-57\"/>\r\n    </g>\r\n   </g>\r\n   <g id=\"text_5\">\r\n    <!-- High = 55 -->\r\n    <g transform=\"translate(732.510262 247.737171)scale(0.1 -0.1)\">\r\n     <use xlink:href=\"#DejaVuSans-72\"/>\r\n     <use x=\"75.195312\" xlink:href=\"#DejaVuSans-105\"/>\r\n     <use x=\"102.978516\" xlink:href=\"#DejaVuSans-103\"/>\r\n     <use x=\"166.455078\" xlink:href=\"#DejaVuSans-104\"/>\r\n     <use x=\"229.833984\" xlink:href=\"#DejaVuSans-32\"/>\r\n     <use x=\"261.621094\" xlink:href=\"#DejaVuSans-61\"/>\r\n     <use x=\"345.410156\" xlink:href=\"#DejaVuSans-32\"/>\r\n     <use x=\"377.197266\" xlink:href=\"#DejaVuSans-53\"/>\r\n     <use x=\"440.820312\" xlink:href=\"#DejaVuSans-53\"/>\r\n    </g>\r\n   </g>\r\n   <g id=\"text_6\">\r\n    <!-- Valence -->\r\n    <g transform=\"translate(577.015361 16.318125)scale(0.12 -0.12)\">\r\n     <defs>\r\n      <path d=\"M 28.609375 0 \r\nL 0.78125 72.90625 \r\nL 11.078125 72.90625 \r\nL 34.1875 11.53125 \r\nL 57.328125 72.90625 \r\nL 67.578125 72.90625 \r\nL 39.796875 0 \r\nz\r\n\" id=\"DejaVuSans-86\"/>\r\n      <path d=\"M 56.203125 29.59375 \r\nL 56.203125 25.203125 \r\nL 14.890625 25.203125 \r\nQ 15.484375 15.921875 20.484375 11.0625 \r\nQ 25.484375 6.203125 34.421875 6.203125 \r\nQ 39.59375 6.203125 44.453125 7.46875 \r\nQ 49.3125 8.734375 54.109375 11.28125 \r\nL 54.109375 2.78125 \r\nQ 49.265625 0.734375 44.1875 -0.34375 \r\nQ 39.109375 -1.421875 33.890625 -1.421875 \r\nQ 20.796875 -1.421875 13.15625 6.1875 \r\nQ 5.515625 13.8125 5.515625 26.8125 \r\nQ 5.515625 40.234375 12.765625 48.109375 \r\nQ 20.015625 56 32.328125 56 \r\nQ 43.359375 56 49.78125 48.890625 \r\nQ 56.203125 41.796875 56.203125 29.59375 \r\nz\r\nM 47.21875 32.234375 \r\nQ 47.125 39.59375 43.09375 43.984375 \r\nQ 39.0625 48.390625 32.421875 48.390625 \r\nQ 24.90625 48.390625 20.390625 44.140625 \r\nQ 15.875 39.890625 15.1875 32.171875 \r\nz\r\n\" id=\"DejaVuSans-101\"/>\r\n      <path d=\"M 54.890625 33.015625 \r\nL 54.890625 0 \r\nL 45.90625 0 \r\nL 45.90625 32.71875 \r\nQ 45.90625 40.484375 42.875 44.328125 \r\nQ 39.84375 48.1875 33.796875 48.1875 \r\nQ 26.515625 48.1875 22.3125 43.546875 \r\nQ 18.109375 38.921875 18.109375 30.90625 \r\nL 18.109375 0 \r\nL 9.078125 0 \r\nL 9.078125 54.6875 \r\nL 18.109375 54.6875 \r\nL 18.109375 46.1875 \r\nQ 21.34375 51.125 25.703125 53.5625 \r\nQ 30.078125 56 35.796875 56 \r\nQ 45.21875 56 50.046875 50.171875 \r\nQ 54.890625 44.34375 54.890625 33.015625 \r\nz\r\n\" id=\"DejaVuSans-110\"/>\r\n      <path d=\"M 48.78125 52.59375 \r\nL 48.78125 44.1875 \r\nQ 44.96875 46.296875 41.140625 47.34375 \r\nQ 37.3125 48.390625 33.40625 48.390625 \r\nQ 24.65625 48.390625 19.8125 42.84375 \r\nQ 14.984375 37.3125 14.984375 27.296875 \r\nQ 14.984375 17.28125 19.8125 11.734375 \r\nQ 24.65625 6.203125 33.40625 6.203125 \r\nQ 37.3125 6.203125 41.140625 7.25 \r\nQ 44.96875 8.296875 48.78125 10.40625 \r\nL 48.78125 2.09375 \r\nQ 45.015625 0.34375 40.984375 -0.53125 \r\nQ 36.96875 -1.421875 32.421875 -1.421875 \r\nQ 20.0625 -1.421875 12.78125 6.34375 \r\nQ 5.515625 14.109375 5.515625 27.296875 \r\nQ 5.515625 40.671875 12.859375 48.328125 \r\nQ 20.21875 56 33.015625 56 \r\nQ 37.15625 56 41.109375 55.140625 \r\nQ 45.0625 54.296875 48.78125 52.59375 \r\nz\r\n\" id=\"DejaVuSans-99\"/>\r\n     </defs>\r\n     <use xlink:href=\"#DejaVuSans-86\"/>\r\n     <use x=\"60.658203\" xlink:href=\"#DejaVuSans-97\"/>\r\n     <use x=\"121.9375\" xlink:href=\"#DejaVuSans-108\"/>\r\n     <use x=\"149.720703\" xlink:href=\"#DejaVuSans-101\"/>\r\n     <use x=\"211.244141\" xlink:href=\"#DejaVuSans-110\"/>\r\n     <use x=\"274.623047\" xlink:href=\"#DejaVuSans-99\"/>\r\n     <use x=\"329.603516\" xlink:href=\"#DejaVuSans-101\"/>\r\n    </g>\r\n   </g>\r\n  </g>\r\n  <g id=\"axes_3\">\r\n   <g id=\"patch_6\">\r\n    <path d=\"M 1125.660269 186.435772 \r\nC 1125.660269 164.740226 1120.282686 143.3792 1110.010132 124.269743 \r\nC 1099.737578 105.160287 1084.886834 88.891689 1066.790683 76.923981 \r\nL 994.366151 186.435772 \r\nL 1125.660269 186.435772 \r\nz\r\n\" style=\"fill:#1f77b4;\"/>\r\n   </g>\r\n   <g id=\"patch_7\">\r\n    <path d=\"M 1066.790683 76.923981 \r\nC 1054.678774 68.91389 1041.321482 62.968359 1027.263685 59.32992 \r\nC 1013.205888 55.691481 998.641371 54.410291 984.164259 55.538611 \r\nC 969.687146 56.666932 955.497003 60.189209 942.172682 65.961762 \r\nC 928.848361 71.734314 916.573536 79.677567 905.848929 89.467495 \r\nC 895.124321 99.257424 886.097769 110.759073 879.137488 123.503264 \r\nC 872.177208 136.247454 867.379145 150.058507 864.939025 164.373035 \r\nC 862.498906 178.687563 862.450366 193.308241 864.795387 207.638656 \r\nC 867.140407 221.96907 871.846662 235.811677 878.722171 248.601801 \r\nC 885.59768 261.391925 894.547665 272.953255 905.207033 282.814177 \r\nC 915.866401 292.675098 928.088214 300.699678 941.373913 306.560574 \r\nC 954.659612 312.421469 968.826054 316.037889 983.295356 317.262309 \r\nC 997.764658 318.48673 1012.33736 317.302272 1026.419006 313.757254 \r\nC 1040.500651 310.212236 1053.897126 304.355526 1066.061953 296.426032 \r\nC 1078.226781 288.496538 1088.99227 278.603569 1097.919269 267.150684 \r\nC 1106.846269 255.697799 1113.81172 242.842875 1118.531486 229.110296 \r\nC 1123.251251 215.377718 1125.660269 200.956788 1125.660269 186.435772 \r\nL 994.366151 186.435772 \r\nL 1066.790683 76.923981 \r\nz\r\n\" style=\"fill:#ff7f0e;\"/>\r\n   </g>\r\n   <g id=\"matplotlib.axis_5\"/>\r\n   <g id=\"matplotlib.axis_6\"/>\r\n   <g id=\"text_7\">\r\n    <!-- Low = 65 -->\r\n    <g transform=\"translate(1121.57453 120.812515)scale(0.1 -0.1)\">\r\n     <defs>\r\n      <path d=\"M 33.015625 40.375 \r\nQ 26.375 40.375 22.484375 35.828125 \r\nQ 18.609375 31.296875 18.609375 23.390625 \r\nQ 18.609375 15.53125 22.484375 10.953125 \r\nQ 26.375 6.390625 33.015625 6.390625 \r\nQ 39.65625 6.390625 43.53125 10.953125 \r\nQ 47.40625 15.53125 47.40625 23.390625 \r\nQ 47.40625 31.296875 43.53125 35.828125 \r\nQ 39.65625 40.375 33.015625 40.375 \r\nz\r\nM 52.59375 71.296875 \r\nL 52.59375 62.3125 \r\nQ 48.875 64.0625 45.09375 64.984375 \r\nQ 41.3125 65.921875 37.59375 65.921875 \r\nQ 27.828125 65.921875 22.671875 59.328125 \r\nQ 17.53125 52.734375 16.796875 39.40625 \r\nQ 19.671875 43.65625 24.015625 45.921875 \r\nQ 28.375 48.1875 33.59375 48.1875 \r\nQ 44.578125 48.1875 50.953125 41.515625 \r\nQ 57.328125 34.859375 57.328125 23.390625 \r\nQ 57.328125 12.15625 50.6875 5.359375 \r\nQ 44.046875 -1.421875 33.015625 -1.421875 \r\nQ 20.359375 -1.421875 13.671875 8.265625 \r\nQ 6.984375 17.96875 6.984375 36.375 \r\nQ 6.984375 53.65625 15.1875 63.9375 \r\nQ 23.390625 74.21875 37.203125 74.21875 \r\nQ 40.921875 74.21875 44.703125 73.484375 \r\nQ 48.484375 72.75 52.59375 71.296875 \r\nz\r\n\" id=\"DejaVuSans-54\"/>\r\n     </defs>\r\n     <use xlink:href=\"#DejaVuSans-76\"/>\r\n     <use x=\"53.962891\" xlink:href=\"#DejaVuSans-111\"/>\r\n     <use x=\"115.144531\" xlink:href=\"#DejaVuSans-119\"/>\r\n     <use x=\"196.931641\" xlink:href=\"#DejaVuSans-32\"/>\r\n     <use x=\"228.71875\" xlink:href=\"#DejaVuSans-61\"/>\r\n     <use x=\"312.507812\" xlink:href=\"#DejaVuSans-32\"/>\r\n     <use x=\"344.294922\" xlink:href=\"#DejaVuSans-54\"/>\r\n     <use x=\"407.917969\" xlink:href=\"#DejaVuSans-53\"/>\r\n    </g>\r\n   </g>\r\n   <g id=\"text_8\">\r\n    <!-- High = 349 -->\r\n    <g transform=\"translate(810.34996 257.577779)scale(0.1 -0.1)\">\r\n     <defs>\r\n      <path d=\"M 37.796875 64.3125 \r\nL 12.890625 25.390625 \r\nL 37.796875 25.390625 \r\nz\r\nM 35.203125 72.90625 \r\nL 47.609375 72.90625 \r\nL 47.609375 25.390625 \r\nL 58.015625 25.390625 \r\nL 58.015625 17.1875 \r\nL 47.609375 17.1875 \r\nL 47.609375 0 \r\nL 37.796875 0 \r\nL 37.796875 17.1875 \r\nL 4.890625 17.1875 \r\nL 4.890625 26.703125 \r\nz\r\n\" id=\"DejaVuSans-52\"/>\r\n     </defs>\r\n     <use xlink:href=\"#DejaVuSans-72\"/>\r\n     <use x=\"75.195312\" xlink:href=\"#DejaVuSans-105\"/>\r\n     <use x=\"102.978516\" xlink:href=\"#DejaVuSans-103\"/>\r\n     <use x=\"166.455078\" xlink:href=\"#DejaVuSans-104\"/>\r\n     <use x=\"229.833984\" xlink:href=\"#DejaVuSans-32\"/>\r\n     <use x=\"261.621094\" xlink:href=\"#DejaVuSans-61\"/>\r\n     <use x=\"345.410156\" xlink:href=\"#DejaVuSans-32\"/>\r\n     <use x=\"377.197266\" xlink:href=\"#DejaVuSans-51\"/>\r\n     <use x=\"440.820312\" xlink:href=\"#DejaVuSans-52\"/>\r\n     <use x=\"504.443359\" xlink:href=\"#DejaVuSans-57\"/>\r\n    </g>\r\n   </g>\r\n   <g id=\"text_9\">\r\n    <!-- Dominance -->\r\n    <g transform=\"translate(960.290839 16.318125)scale(0.12 -0.12)\">\r\n     <defs>\r\n      <path d=\"M 19.671875 64.796875 \r\nL 19.671875 8.109375 \r\nL 31.59375 8.109375 \r\nQ 46.6875 8.109375 53.6875 14.9375 \r\nQ 60.6875 21.78125 60.6875 36.53125 \r\nQ 60.6875 51.171875 53.6875 57.984375 \r\nQ 46.6875 64.796875 31.59375 64.796875 \r\nz\r\nM 9.8125 72.90625 \r\nL 30.078125 72.90625 \r\nQ 51.265625 72.90625 61.171875 64.09375 \r\nQ 71.09375 55.28125 71.09375 36.53125 \r\nQ 71.09375 17.671875 61.125 8.828125 \r\nQ 51.171875 0 30.078125 0 \r\nL 9.8125 0 \r\nz\r\n\" id=\"DejaVuSans-68\"/>\r\n      <path d=\"M 52 44.1875 \r\nQ 55.375 50.25 60.0625 53.125 \r\nQ 64.75 56 71.09375 56 \r\nQ 79.640625 56 84.28125 50.015625 \r\nQ 88.921875 44.046875 88.921875 33.015625 \r\nL 88.921875 0 \r\nL 79.890625 0 \r\nL 79.890625 32.71875 \r\nQ 79.890625 40.578125 77.09375 44.375 \r\nQ 74.3125 48.1875 68.609375 48.1875 \r\nQ 61.625 48.1875 57.5625 43.546875 \r\nQ 53.515625 38.921875 53.515625 30.90625 \r\nL 53.515625 0 \r\nL 44.484375 0 \r\nL 44.484375 32.71875 \r\nQ 44.484375 40.625 41.703125 44.40625 \r\nQ 38.921875 48.1875 33.109375 48.1875 \r\nQ 26.21875 48.1875 22.15625 43.53125 \r\nQ 18.109375 38.875 18.109375 30.90625 \r\nL 18.109375 0 \r\nL 9.078125 0 \r\nL 9.078125 54.6875 \r\nL 18.109375 54.6875 \r\nL 18.109375 46.1875 \r\nQ 21.1875 51.21875 25.484375 53.609375 \r\nQ 29.78125 56 35.6875 56 \r\nQ 41.65625 56 45.828125 52.96875 \r\nQ 50 49.953125 52 44.1875 \r\nz\r\n\" id=\"DejaVuSans-109\"/>\r\n     </defs>\r\n     <use xlink:href=\"#DejaVuSans-68\"/>\r\n     <use x=\"77.001953\" xlink:href=\"#DejaVuSans-111\"/>\r\n     <use x=\"138.183594\" xlink:href=\"#DejaVuSans-109\"/>\r\n     <use x=\"235.595703\" xlink:href=\"#DejaVuSans-105\"/>\r\n     <use x=\"263.378906\" xlink:href=\"#DejaVuSans-110\"/>\r\n     <use x=\"326.757812\" xlink:href=\"#DejaVuSans-97\"/>\r\n     <use x=\"388.037109\" xlink:href=\"#DejaVuSans-110\"/>\r\n     <use x=\"451.416016\" xlink:href=\"#DejaVuSans-99\"/>\r\n     <use x=\"506.396484\" xlink:href=\"#DejaVuSans-101\"/>\r\n    </g>\r\n   </g>\r\n  </g>\r\n </g>\r\n</svg>\r\n",
            "image/png": "[encoded data removed]"
          },
          "metadata": {}
        }
      ]
    },
    {
      "cell_type": "markdown",
      "metadata": {
        "id": "AyGkCQe01EKn"
      },
      "source": [
        "Results Storing"
      ]
    },
    {
      "cell_type": "code",
      "metadata": {
        "id": "cGjK0L0Y-Naf"
      },
      "source": [
        "XGBresult = []\n",
        "SVMresult = []"
      ],
      "execution_count": 33,
      "outputs": []
    },
    {
      "cell_type": "markdown",
      "metadata": {
        "id": "bPunBiKHeKNL"
      },
      "source": [
        "**SVM Classifier**"
      ]
    },
    {
      "cell_type": "code",
      "metadata": {
        "id": "_TD2wQPP0ygM",
        "colab": {
          "base_uri": "https://localhost:8080/"
        },
        "outputId": "ca990f45-f793-4404-a6c7-46c3b680e8c1"
      },
      "source": [
        "#Support Vector Machine\n",
        "model = svm.SVC(kernel='rbf', random_state = 0)  \n",
        "data = dx\n",
        "\n",
        "for Class_name in ['Arousal','Valence','Dominance']:\n",
        "    y = data[Class_name]\n",
        "    X = data.drop(['Arousal','Valence','Dominance'], axis=1)\n",
        "    X = preprocessing.minmax_scale(X)\n",
        "\n",
        "    # (Chi Square) It does not Increase the accuracy , rather decreases\n",
        "    #X = SelectKBest(chi2, k=10).fit_transform(X, y)\n",
        "    #X = pd.DataFrame(X)\n",
        "    \n",
        "    #Cross Validation Test Score\n",
        "    cv_score = cross_val_score(model,X,y,cv = 10, scoring='accuracy')\n",
        "\n",
        "\n",
        "    \n",
        "    SVMresult.append(cv_score.min()*100)\n",
        "    SVMresult.append(cv_score.mean()*100)\n",
        "    SVMresult.append(cv_score.max()*100)\n",
        "\n",
        "    print(\"SVM \"+\" CV Test Score of \"+Class_name+':',  \"%.3f\" % (cv_score.min()*100), \"(Minimum)\")\n",
        "    print(\"SVM \"+\" CV Test Score of \"+Class_name+':',  \"%.3f\" % (cv_score.mean()*100), \"(Mean)\")\n",
        "    print(\"SVM \"+\" CV Test Score of \"+Class_name+':',  \"%.3f\" % (cv_score.max()*100), \"(Maximum)\")\n",
        "\n",
        "    from sklearn.metrics import confusion_matrix\n",
        "    #print(classification_report(y_test, y_predicted))\n",
        "\n",
        "    print('------------------------------------------------')"
      ],
      "execution_count": 34,
      "outputs": [
        {
          "output_type": "stream",
          "name": "stdout",
          "text": [
            "SVM  CV Test Score of Arousal: 92.857 (Minimum)\n",
            "SVM  CV Test Score of Arousal: 94.930 (Mean)\n",
            "SVM  CV Test Score of Arousal: 95.238 (Maximum)\n",
            "------------------------------------------------\n",
            "SVM  CV Test Score of Valence: 85.366 (Minimum)\n",
            "SVM  CV Test Score of Valence: 86.725 (Mean)\n",
            "SVM  CV Test Score of Valence: 87.805 (Maximum)\n",
            "------------------------------------------------\n",
            "SVM  CV Test Score of Dominance: 82.927 (Minimum)\n",
            "SVM  CV Test Score of Dominance: 84.309 (Mean)\n",
            "SVM  CV Test Score of Dominance: 85.366 (Maximum)\n",
            "------------------------------------------------\n"
          ]
        }
      ]
    },
    {
      "cell_type": "markdown",
      "metadata": {
        "id": "GvocL3eXaihE"
      },
      "source": [
        "**Extreme Gradient Boosting**"
      ]
    },
    {
      "cell_type": "code",
      "metadata": {
        "id": "QuVZoOqO9epU",
        "colab": {
          "base_uri": "https://localhost:8080/"
        },
        "outputId": "60049981-99fb-4891-e427-3bd51481ca3d"
      },
      "source": [
        "#Extreme Gradiant Boosing Model\n",
        "from sklearn.feature_selection import SelectKBest, chi2\n",
        "model = XGBClassifier(max_depth=3,\n",
        "                      objective='binary:logistic',\n",
        "                      n_estimators= 300,\n",
        "                      learning_rate = 0.05,\n",
        "                      early_stopping_rounds= 10,\n",
        "                      random_state=0)\n",
        "data = dx\n",
        "\n",
        "for Class_name in ['Arousal','Valence','Dominance']:\n",
        "    y = data[Class_name]\n",
        "    X = data.drop(['Arousal','Valence','Dominance'], axis=1)\n",
        "    X = preprocessing.minmax_scale(X)\n",
        "    \n",
        "    X = RFECV(estimator=model, step=1, cv=10, scoring='accuracy').fit_transform(X, y)\n",
        "    X = pd.DataFrame(X) \n",
        "\n",
        "\n",
        "    #Cross Validation Test Score\n",
        "    cv_score = cross_val_score(model,X,y,cv = 10, scoring='accuracy')\n",
        "\n",
        "    XGBresult.append(cv_score.min()*100)\n",
        "    XGBresult.append(cv_score.mean()*100)\n",
        "    XGBresult.append(cv_score.max()*100)\n",
        "\n",
        "    print(\"XGB \"+\" CV Test Score of \"+Class_name+':',  \"%.3f\" % (cv_score.min()*100), \"(Minimum)\")\n",
        "    print(\"XGB \"+\" CV Test Score of \"+Class_name+':',  \"%.3f\" % (cv_score.mean()*100), \"(Mean)\" )\n",
        "    print(\"XGB \"+\" CV Test Score of \"+Class_name+':',  \"%.3f\" % (cv_score.max()*100), \"(Maximum)\")\n",
        "\n",
        "    print('------------------------------------------------')"
      ],
      "execution_count": null,
      "outputs": [
        {
          "output_type": "stream",
          "text": [
            "XGB  CV Test Score of Arousal: 92.857 (Minimum)\n",
            "XGB  CV Test Score of Arousal: 95.174 (Mean)\n",
            "XGB  CV Test Score of Arousal: 97.561 (Maximum)\n",
            "------------------------------------------------\n",
            "XGB  CV Test Score of Valence: 83.333 (Minimum)\n",
            "XGB  CV Test Score of Valence: 87.456 (Mean)\n",
            "XGB  CV Test Score of Valence: 90.244 (Maximum)\n",
            "------------------------------------------------\n",
            "XGB  CV Test Score of Dominance: 82.927 (Minimum)\n",
            "XGB  CV Test Score of Dominance: 84.541 (Mean)\n",
            "XGB  CV Test Score of Dominance: 85.714 (Maximum)\n",
            "------------------------------------------------\n"
          ],
          "name": "stdout"
        }
      ]
    }
  ]
}