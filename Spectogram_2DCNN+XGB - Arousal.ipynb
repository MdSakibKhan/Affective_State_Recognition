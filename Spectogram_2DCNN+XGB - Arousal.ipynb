{
  "nbformat": 4,
  "nbformat_minor": 0,
  "metadata": {
    "colab": {
      "name": "Thesis CNN.ipynb",
      "provenance": [],
      "collapsed_sections": []
    },
    "kernelspec": {
      "name": "python385jvsc74a57bd0749ad9d43fc053299e3b81ab6f3efa85a5a0b6ec94ed4cb49faa6c5419a0e71a",
      "display_name": "Python 3.8.5 64-bit ('base': conda)"
    },
    "metadata": {
      "interpreter": {
        "hash": "d91fcc5a8c3bda2b41e8b24eb4ea747edfabeb3994a318062c70e450cdcfcf7b"
      }
    }
  },
  "cells": [
    {
      "cell_type": "code",
      "metadata": {
        "id": "xHxlZVFrWs64"
      },
      "source": [
        "import os\n",
        "import time\n",
        "import numpy as np\n",
        "from numpy import mean\n",
        "from numpy import std\n",
        "from numpy import dstack\n",
        "from pandas import read_csv\n",
        "from matplotlib import pyplot\n",
        "from keras.models import Sequential\n",
        "from keras.layers import Dense\n",
        "from keras.layers import Flatten\n",
        "from keras.layers import Dropout\n",
        "from keras.layers.convolutional import Conv1D\n",
        "from keras.layers.convolutional import MaxPooling1D\n",
        "from keras.utils import to_categorical\n",
        "from keras.utils import normalize\n",
        "from sklearn import preprocessing\n",
        "from sklearn.metrics import confusion_matrix\n",
        "import pandas as pd\n",
        "from sklearn.feature_selection import RFE\n",
        "from sklearn.feature_selection import RFECV\n",
        "import matplotlib.pyplot as plt\n",
        "from sklearn.model_selection import train_test_split\n",
        "from numpy.fft import fft, fftfreq, ifft\n",
        "import scipy\n",
        "from scipy.fftpack import fft\n",
        "from scipy.fftpack import dct\n",
        "from scipy import fftpack\n",
        "from scipy import signal\n",
        "from scipy.signal import chirp\n",
        "import csv\n",
        "from sklearn.model_selection import cross_val_score\n",
        "from scipy.signal import filtfilt\n",
        "from scipy.signal import lfilter\n",
        "from scipy import stats\n",
        "from scipy.signal import butter, lfilter, lfilter_zi, normalize\n",
        "import numpy as np\n",
        "import pandas as pd\n",
        "from sklearn import preprocessing\n",
        "import keras\n",
        "from keras.models import Sequential\n",
        "from keras.layers import Input, Dense, Conv1D, Conv2D, Dropout, Activation, MaxPool1D, MaxPool2D, Flatten\n",
        "from sklearn.model_selection import train_test_split\n",
        "from keras.models import Sequential\n",
        "from keras.layers import Dense, Dropout, Flatten\n",
        "from keras.layers import Conv2D, MaxPooling2D\n",
        "from keras.optimizers import SGD\n",
        "from keras.layers.normalization import BatchNormalization\n",
        "from keras.layers import LeakyReLU\n",
        "from keras.layers import Dropout, Input, BatchNormalization\n",
        "from sklearn.metrics import confusion_matrix, accuracy_score\n",
        "from plotly.offline import iplot, init_notebook_mode\n",
        "from keras.losses import categorical_crossentropy\n",
        "from keras.optimizers import Adadelta\n",
        "import plotly.graph_objs as go\n",
        "from matplotlib.pyplot import cm\n",
        "from keras.models import Model\n",
        "import numpy as np\n",
        "import keras\n",
        "import h5py\n",
        "import tensorflow as tf\n",
        "import cv2\n",
        "from tensorflow.keras.preprocessing.image import ImageDataGenerator\n",
        "from tensorflow.keras.preprocessing import image\n",
        "import warnings\n",
        "warnings.filterwarnings('ignore')"
      ],
      "execution_count": 59,
      "outputs": []
    },
    {
      "cell_type": "code",
      "execution_count": 6,
      "metadata": {},
      "outputs": [],
      "source": [
        "Channels = ['AF3', 'F7', 'F3', 'FC5', 'T7', 'P7', 'O1', 'O2', 'P8', 'T8', 'FC6', 'F4', 'F8', 'AF4']"
      ]
    },
    {
      "cell_type": "code",
      "execution_count": 7,
      "metadata": {
        "tags": []
      },
      "outputs": [
        {
          "output_type": "execute_result",
          "data": {
            "text/plain": [
              "(5796, 120, 100, 3)"
            ]
          },
          "metadata": {},
          "execution_count": 7
        }
      ],
      "source": [
        "total_channels = 14\n",
        "total_Person = 23 # This must be 23 as we have 23 subjects. \n",
        "total_Stimuli = 18\n",
        "\n",
        "from PIL import Image\n",
        "import imageio\n",
        "\n",
        "allStimuliData = []\n",
        "\n",
        "for PersonCount in range(total_Person):\n",
        "    for index in range(total_Stimuli):\n",
        "        for channel in Channels:\n",
        "            img = cv2.imread('Spectograms/P' + str(PersonCount + 1) + '_S' + str(index + 1) + '_' + channel + '.jpg')\n",
        "            img = cv2.resize(img, (100, 120))\n",
        "            img = img/255\n",
        "            allStimuliData.append(img)\n",
        "\n",
        "allStimuliData = np.array(allStimuliData)\n",
        "allStimuliData.shape\n"
      ]
    },
    {
      "cell_type": "code",
      "execution_count": 9,
      "metadata": {},
      "outputs": [],
      "source": [
        "#This will be used to Train CNN model.\n",
        "\n",
        "#Class Distribution of Self assesment ratings for Arousal, Valence and Dominance\n",
        "ratings = pd.read_csv('Dataset/Results/AllRatings.csv')\n",
        "AllRatings = pd.DataFrame(ratings)\n",
        "\n",
        "Arousal = []\n",
        "Valence = []\n",
        "Dominance = []\n",
        "\n",
        "ArousalCountz = 0\n",
        "ArousalCountone = 0\n",
        "\n",
        "ValenceCountz = 0\n",
        "ValenceCountone = 0\n",
        "\n",
        "DominanceCountz = 0\n",
        "DominanceCountone = 0\n",
        "\n",
        "count = total_Person*total_Stimuli\n",
        "\n",
        "values = AllRatings['Arousal']\n",
        "for i in range(count):\n",
        "    if values[i] < 2.5:\n",
        "        for j in range(14): # As each 14 channel co-responds to 1 result for 1 stimuli, we are assigning same value for all the channel for each stimuli singals.\n",
        "            Arousal.append([0]) # uninterested/bored\n",
        "            ArousalCountz = ArousalCountz+1\n",
        "    else:\n",
        "        for j in range(14): # As each 14 channel co-responds to 1 result for 1 stimuli, we are assigning same value for all the channel for each stimuli singals.\n",
        "            Arousal.append([1]) # excited/alert\n",
        "            ArousalCountone = ArousalCountone+1\n",
        "    \n",
        "values = AllRatings['Valence']\n",
        "for i in range(count):\n",
        "    if values[i] < 2.5:\n",
        "        for j in range(14): # As each 14 channel co-responds to 1 result for 1 stimuli, we are assigning same value for all the channel for each stimuli singals.\n",
        "            Valence.append([0]) # unpleasant/stressed\n",
        "            ValenceCountz = ValenceCountz+1\n",
        "    else:\n",
        "        for j in range(14): # As each 14 channel co-responds to 1 result for 1 stimuli, we are assigning same value for all the channel for each stimuli singals.\n",
        "            Valence.append([1]) # happy/elated\n",
        "            ValenceCountone = ValenceCountone+1\n",
        "\n",
        "        \n",
        "values = AllRatings['Dominance']\n",
        "for i in range(count):\n",
        "    if values[i] < 2.5:\n",
        "        for j in range(14): # As each 14 channel co responds to 1 result, we are assigning same value for all the channel for each stimuli singals.\n",
        "            Dominance.append([0]) # helpless/Without Control\n",
        "            DominanceCountz = DominanceCountz+1\n",
        "    else:\n",
        "        for j in range(14): # As each 14 channel co responds to 1 result, we are assigning same value for all the channel for each stimuli singals.\n",
        "            Dominance.append([1]) # Empowered\n",
        "            DominanceCountone = DominanceCountone+1"
      ]
    },
    {
      "cell_type": "code",
      "execution_count": 10,
      "metadata": {},
      "outputs": [
        {
          "output_type": "display_data",
          "data": {
            "text/plain": "<Figure size 1440x504 with 3 Axes>",
            "image/svg+xml": "<?xml version=\"1.0\" encoding=\"utf-8\" standalone=\"no\"?>\r\n<!DOCTYPE svg PUBLIC \"-//W3C//DTD SVG 1.1//EN\"\r\n  \"http://www.w3.org/Graphics/SVG/1.1/DTD/svg11.dtd\">\r\n<!-- Created with matplotlib (https://matplotlib.org/) -->\r\n<svg height=\"357.753419pt\" version=\"1.1\" viewBox=\"0 0 1134.655025 357.753419\" width=\"1134.655025pt\" xmlns=\"http://www.w3.org/2000/svg\" xmlns:xlink=\"http://www.w3.org/1999/xlink\">\r\n <metadata>\r\n  <rdf:RDF xmlns:cc=\"http://creativecommons.org/ns#\" xmlns:dc=\"http://purl.org/dc/elements/1.1/\" xmlns:rdf=\"http://www.w3.org/1999/02/22-rdf-syntax-ns#\">\r\n   <cc:Work>\r\n    <dc:type rdf:resource=\"http://purl.org/dc/dcmitype/StillImage\"/>\r\n    <dc:date>2021-06-11T16:12:21.784753</dc:date>\r\n    <dc:format>image/svg+xml</dc:format>\r\n    <dc:creator>\r\n     <cc:Agent>\r\n      <dc:title>Matplotlib v3.3.2, https://matplotlib.org/</dc:title>\r\n     </cc:Agent>\r\n    </dc:creator>\r\n   </cc:Work>\r\n  </rdf:RDF>\r\n </metadata>\r\n <defs>\r\n  <style type=\"text/css\">*{stroke-linecap:butt;stroke-linejoin:round;}</style>\r\n </defs>\r\n <g id=\"figure_1\">\r\n  <g id=\"patch_1\">\r\n   <path d=\"M 0 357.753419 \r\nL 1134.655025 357.753419 \r\nL 1134.655025 0 \r\nL 0 0 \r\nz\r\n\" style=\"fill:none;\"/>\r\n  </g>\r\n  <g id=\"axes_1\">\r\n   <g id=\"patch_2\">\r\n    <path d=\"M 302.611765 186.435772 \r\nC 302.611765 167.432395 298.485971 148.653618 290.520201 131.400362 \r\nC 282.554432 114.147105 270.936982 98.8272 256.472662 86.50195 \r\nC 242.008343 74.1767 225.03906 65.137448 206.74038 60.010397 \r\nC 188.4417 54.883347 169.246165 53.789692 150.483567 56.805195 \r\nL 171.317647 186.435772 \r\nL 302.611765 186.435772 \r\nz\r\n\" style=\"fill:#1f77b4;\"/>\r\n   </g>\r\n   <g id=\"patch_3\">\r\n    <path d=\"M 150.483567 56.805195 \r\nC 125.726663 60.784097 102.620152 71.773069 83.909889 88.466241 \r\nC 65.199625 105.159412 51.657321 126.868267 44.892272 151.013039 \r\nC 38.127224 175.157812 38.418457 200.742643 45.731364 224.727165 \r\nC 53.044271 248.711688 67.077228 270.106652 86.162632 286.369594 \r\nC 105.248036 302.632535 128.598704 313.092683 153.439765 316.507009 \r\nC 178.280826 319.921335 203.587702 316.149013 226.353057 305.638326 \r\nC 249.118413 295.12764 268.403282 278.312106 281.915954 257.189993 \r\nC 295.428626 236.067881 302.611765 211.510379 302.611765 186.435772 \r\nL 171.317647 186.435772 \r\nL 150.483567 56.805195 \r\nz\r\n\" style=\"fill:#ff7f0e;\"/>\r\n   </g>\r\n   <g id=\"matplotlib.axis_1\"/>\r\n   <g id=\"matplotlib.axis_2\"/>\r\n   <g id=\"text_1\">\r\n    <!-- Low = 1596 -->\r\n    <g transform=\"translate(264.988164 79.267943)scale(0.1 -0.1)\">\r\n     <defs>\r\n      <path d=\"M 9.8125 72.90625 \r\nL 19.671875 72.90625 \r\nL 19.671875 8.296875 \r\nL 55.171875 8.296875 \r\nL 55.171875 0 \r\nL 9.8125 0 \r\nz\r\n\" id=\"DejaVuSans-76\"/>\r\n      <path d=\"M 30.609375 48.390625 \r\nQ 23.390625 48.390625 19.1875 42.75 \r\nQ 14.984375 37.109375 14.984375 27.296875 \r\nQ 14.984375 17.484375 19.15625 11.84375 \r\nQ 23.34375 6.203125 30.609375 6.203125 \r\nQ 37.796875 6.203125 41.984375 11.859375 \r\nQ 46.1875 17.53125 46.1875 27.296875 \r\nQ 46.1875 37.015625 41.984375 42.703125 \r\nQ 37.796875 48.390625 30.609375 48.390625 \r\nz\r\nM 30.609375 56 \r\nQ 42.328125 56 49.015625 48.375 \r\nQ 55.71875 40.765625 55.71875 27.296875 \r\nQ 55.71875 13.875 49.015625 6.21875 \r\nQ 42.328125 -1.421875 30.609375 -1.421875 \r\nQ 18.84375 -1.421875 12.171875 6.21875 \r\nQ 5.515625 13.875 5.515625 27.296875 \r\nQ 5.515625 40.765625 12.171875 48.375 \r\nQ 18.84375 56 30.609375 56 \r\nz\r\n\" id=\"DejaVuSans-111\"/>\r\n      <path d=\"M 4.203125 54.6875 \r\nL 13.1875 54.6875 \r\nL 24.421875 12.015625 \r\nL 35.59375 54.6875 \r\nL 46.1875 54.6875 \r\nL 57.421875 12.015625 \r\nL 68.609375 54.6875 \r\nL 77.59375 54.6875 \r\nL 63.28125 0 \r\nL 52.6875 0 \r\nL 40.921875 44.828125 \r\nL 29.109375 0 \r\nL 18.5 0 \r\nz\r\n\" id=\"DejaVuSans-119\"/>\r\n      <path id=\"DejaVuSans-32\"/>\r\n      <path d=\"M 10.59375 45.40625 \r\nL 73.1875 45.40625 \r\nL 73.1875 37.203125 \r\nL 10.59375 37.203125 \r\nz\r\nM 10.59375 25.484375 \r\nL 73.1875 25.484375 \r\nL 73.1875 17.1875 \r\nL 10.59375 17.1875 \r\nz\r\n\" id=\"DejaVuSans-61\"/>\r\n      <path d=\"M 12.40625 8.296875 \r\nL 28.515625 8.296875 \r\nL 28.515625 63.921875 \r\nL 10.984375 60.40625 \r\nL 10.984375 69.390625 \r\nL 28.421875 72.90625 \r\nL 38.28125 72.90625 \r\nL 38.28125 8.296875 \r\nL 54.390625 8.296875 \r\nL 54.390625 0 \r\nL 12.40625 0 \r\nz\r\n\" id=\"DejaVuSans-49\"/>\r\n      <path d=\"M 10.796875 72.90625 \r\nL 49.515625 72.90625 \r\nL 49.515625 64.59375 \r\nL 19.828125 64.59375 \r\nL 19.828125 46.734375 \r\nQ 21.96875 47.46875 24.109375 47.828125 \r\nQ 26.265625 48.1875 28.421875 48.1875 \r\nQ 40.625 48.1875 47.75 41.5 \r\nQ 54.890625 34.8125 54.890625 23.390625 \r\nQ 54.890625 11.625 47.5625 5.09375 \r\nQ 40.234375 -1.421875 26.90625 -1.421875 \r\nQ 22.3125 -1.421875 17.546875 -0.640625 \r\nQ 12.796875 0.140625 7.71875 1.703125 \r\nL 7.71875 11.625 \r\nQ 12.109375 9.234375 16.796875 8.0625 \r\nQ 21.484375 6.890625 26.703125 6.890625 \r\nQ 35.15625 6.890625 40.078125 11.328125 \r\nQ 45.015625 15.765625 45.015625 23.390625 \r\nQ 45.015625 31 40.078125 35.4375 \r\nQ 35.15625 39.890625 26.703125 39.890625 \r\nQ 22.75 39.890625 18.8125 39.015625 \r\nQ 14.890625 38.140625 10.796875 36.28125 \r\nz\r\n\" id=\"DejaVuSans-53\"/>\r\n      <path d=\"M 10.984375 1.515625 \r\nL 10.984375 10.5 \r\nQ 14.703125 8.734375 18.5 7.8125 \r\nQ 22.3125 6.890625 25.984375 6.890625 \r\nQ 35.75 6.890625 40.890625 13.453125 \r\nQ 46.046875 20.015625 46.78125 33.40625 \r\nQ 43.953125 29.203125 39.59375 26.953125 \r\nQ 35.25 24.703125 29.984375 24.703125 \r\nQ 19.046875 24.703125 12.671875 31.3125 \r\nQ 6.296875 37.9375 6.296875 49.421875 \r\nQ 6.296875 60.640625 12.9375 67.421875 \r\nQ 19.578125 74.21875 30.609375 74.21875 \r\nQ 43.265625 74.21875 49.921875 64.515625 \r\nQ 56.59375 54.828125 56.59375 36.375 \r\nQ 56.59375 19.140625 48.40625 8.859375 \r\nQ 40.234375 -1.421875 26.421875 -1.421875 \r\nQ 22.703125 -1.421875 18.890625 -0.6875 \r\nQ 15.09375 0.046875 10.984375 1.515625 \r\nz\r\nM 30.609375 32.421875 \r\nQ 37.25 32.421875 41.125 36.953125 \r\nQ 45.015625 41.5 45.015625 49.421875 \r\nQ 45.015625 57.28125 41.125 61.84375 \r\nQ 37.25 66.40625 30.609375 66.40625 \r\nQ 23.96875 66.40625 20.09375 61.84375 \r\nQ 16.21875 57.28125 16.21875 49.421875 \r\nQ 16.21875 41.5 20.09375 36.953125 \r\nQ 23.96875 32.421875 30.609375 32.421875 \r\nz\r\n\" id=\"DejaVuSans-57\"/>\r\n      <path d=\"M 33.015625 40.375 \r\nQ 26.375 40.375 22.484375 35.828125 \r\nQ 18.609375 31.296875 18.609375 23.390625 \r\nQ 18.609375 15.53125 22.484375 10.953125 \r\nQ 26.375 6.390625 33.015625 6.390625 \r\nQ 39.65625 6.390625 43.53125 10.953125 \r\nQ 47.40625 15.53125 47.40625 23.390625 \r\nQ 47.40625 31.296875 43.53125 35.828125 \r\nQ 39.65625 40.375 33.015625 40.375 \r\nz\r\nM 52.59375 71.296875 \r\nL 52.59375 62.3125 \r\nQ 48.875 64.0625 45.09375 64.984375 \r\nQ 41.3125 65.921875 37.59375 65.921875 \r\nQ 27.828125 65.921875 22.671875 59.328125 \r\nQ 17.53125 52.734375 16.796875 39.40625 \r\nQ 19.671875 43.65625 24.015625 45.921875 \r\nQ 28.375 48.1875 33.59375 48.1875 \r\nQ 44.578125 48.1875 50.953125 41.515625 \r\nQ 57.328125 34.859375 57.328125 23.390625 \r\nQ 57.328125 12.15625 50.6875 5.359375 \r\nQ 44.046875 -1.421875 33.015625 -1.421875 \r\nQ 20.359375 -1.421875 13.671875 8.265625 \r\nQ 6.984375 17.96875 6.984375 36.375 \r\nQ 6.984375 53.65625 15.1875 63.9375 \r\nQ 23.390625 74.21875 37.203125 74.21875 \r\nQ 40.921875 74.21875 44.703125 73.484375 \r\nQ 48.484375 72.75 52.59375 71.296875 \r\nz\r\n\" id=\"DejaVuSans-54\"/>\r\n     </defs>\r\n     <use xlink:href=\"#DejaVuSans-76\"/>\r\n     <use x=\"53.962891\" xlink:href=\"#DejaVuSans-111\"/>\r\n     <use x=\"115.144531\" xlink:href=\"#DejaVuSans-119\"/>\r\n     <use x=\"196.931641\" xlink:href=\"#DejaVuSans-32\"/>\r\n     <use x=\"228.71875\" xlink:href=\"#DejaVuSans-61\"/>\r\n     <use x=\"312.507812\" xlink:href=\"#DejaVuSans-32\"/>\r\n     <use x=\"344.294922\" xlink:href=\"#DejaVuSans-49\"/>\r\n     <use x=\"407.917969\" xlink:href=\"#DejaVuSans-53\"/>\r\n     <use x=\"471.541016\" xlink:href=\"#DejaVuSans-57\"/>\r\n     <use x=\"535.164062\" xlink:href=\"#DejaVuSans-54\"/>\r\n    </g>\r\n   </g>\r\n   <g id=\"text_2\">\r\n    <!-- High = 4200 -->\r\n    <g transform=\"translate(14.476818 299.122351)scale(0.1 -0.1)\">\r\n     <defs>\r\n      <path d=\"M 9.8125 72.90625 \r\nL 19.671875 72.90625 \r\nL 19.671875 43.015625 \r\nL 55.515625 43.015625 \r\nL 55.515625 72.90625 \r\nL 65.375 72.90625 \r\nL 65.375 0 \r\nL 55.515625 0 \r\nL 55.515625 34.71875 \r\nL 19.671875 34.71875 \r\nL 19.671875 0 \r\nL 9.8125 0 \r\nz\r\n\" id=\"DejaVuSans-72\"/>\r\n      <path d=\"M 9.421875 54.6875 \r\nL 18.40625 54.6875 \r\nL 18.40625 0 \r\nL 9.421875 0 \r\nz\r\nM 9.421875 75.984375 \r\nL 18.40625 75.984375 \r\nL 18.40625 64.59375 \r\nL 9.421875 64.59375 \r\nz\r\n\" id=\"DejaVuSans-105\"/>\r\n      <path d=\"M 45.40625 27.984375 \r\nQ 45.40625 37.75 41.375 43.109375 \r\nQ 37.359375 48.484375 30.078125 48.484375 \r\nQ 22.859375 48.484375 18.828125 43.109375 \r\nQ 14.796875 37.75 14.796875 27.984375 \r\nQ 14.796875 18.265625 18.828125 12.890625 \r\nQ 22.859375 7.515625 30.078125 7.515625 \r\nQ 37.359375 7.515625 41.375 12.890625 \r\nQ 45.40625 18.265625 45.40625 27.984375 \r\nz\r\nM 54.390625 6.78125 \r\nQ 54.390625 -7.171875 48.1875 -13.984375 \r\nQ 42 -20.796875 29.203125 -20.796875 \r\nQ 24.46875 -20.796875 20.265625 -20.09375 \r\nQ 16.0625 -19.390625 12.109375 -17.921875 \r\nL 12.109375 -9.1875 \r\nQ 16.0625 -11.328125 19.921875 -12.34375 \r\nQ 23.78125 -13.375 27.78125 -13.375 \r\nQ 36.625 -13.375 41.015625 -8.765625 \r\nQ 45.40625 -4.15625 45.40625 5.171875 \r\nL 45.40625 9.625 \r\nQ 42.625 4.78125 38.28125 2.390625 \r\nQ 33.9375 0 27.875 0 \r\nQ 17.828125 0 11.671875 7.65625 \r\nQ 5.515625 15.328125 5.515625 27.984375 \r\nQ 5.515625 40.671875 11.671875 48.328125 \r\nQ 17.828125 56 27.875 56 \r\nQ 33.9375 56 38.28125 53.609375 \r\nQ 42.625 51.21875 45.40625 46.390625 \r\nL 45.40625 54.6875 \r\nL 54.390625 54.6875 \r\nz\r\n\" id=\"DejaVuSans-103\"/>\r\n      <path d=\"M 54.890625 33.015625 \r\nL 54.890625 0 \r\nL 45.90625 0 \r\nL 45.90625 32.71875 \r\nQ 45.90625 40.484375 42.875 44.328125 \r\nQ 39.84375 48.1875 33.796875 48.1875 \r\nQ 26.515625 48.1875 22.3125 43.546875 \r\nQ 18.109375 38.921875 18.109375 30.90625 \r\nL 18.109375 0 \r\nL 9.078125 0 \r\nL 9.078125 75.984375 \r\nL 18.109375 75.984375 \r\nL 18.109375 46.1875 \r\nQ 21.34375 51.125 25.703125 53.5625 \r\nQ 30.078125 56 35.796875 56 \r\nQ 45.21875 56 50.046875 50.171875 \r\nQ 54.890625 44.34375 54.890625 33.015625 \r\nz\r\n\" id=\"DejaVuSans-104\"/>\r\n      <path d=\"M 37.796875 64.3125 \r\nL 12.890625 25.390625 \r\nL 37.796875 25.390625 \r\nz\r\nM 35.203125 72.90625 \r\nL 47.609375 72.90625 \r\nL 47.609375 25.390625 \r\nL 58.015625 25.390625 \r\nL 58.015625 17.1875 \r\nL 47.609375 17.1875 \r\nL 47.609375 0 \r\nL 37.796875 0 \r\nL 37.796875 17.1875 \r\nL 4.890625 17.1875 \r\nL 4.890625 26.703125 \r\nz\r\n\" id=\"DejaVuSans-52\"/>\r\n      <path d=\"M 19.1875 8.296875 \r\nL 53.609375 8.296875 \r\nL 53.609375 0 \r\nL 7.328125 0 \r\nL 7.328125 8.296875 \r\nQ 12.9375 14.109375 22.625 23.890625 \r\nQ 32.328125 33.6875 34.8125 36.53125 \r\nQ 39.546875 41.84375 41.421875 45.53125 \r\nQ 43.3125 49.21875 43.3125 52.78125 \r\nQ 43.3125 58.59375 39.234375 62.25 \r\nQ 35.15625 65.921875 28.609375 65.921875 \r\nQ 23.96875 65.921875 18.8125 64.3125 \r\nQ 13.671875 62.703125 7.8125 59.421875 \r\nL 7.8125 69.390625 \r\nQ 13.765625 71.78125 18.9375 73 \r\nQ 24.125 74.21875 28.421875 74.21875 \r\nQ 39.75 74.21875 46.484375 68.546875 \r\nQ 53.21875 62.890625 53.21875 53.421875 \r\nQ 53.21875 48.921875 51.53125 44.890625 \r\nQ 49.859375 40.875 45.40625 35.40625 \r\nQ 44.1875 33.984375 37.640625 27.21875 \r\nQ 31.109375 20.453125 19.1875 8.296875 \r\nz\r\n\" id=\"DejaVuSans-50\"/>\r\n      <path d=\"M 31.78125 66.40625 \r\nQ 24.171875 66.40625 20.328125 58.90625 \r\nQ 16.5 51.421875 16.5 36.375 \r\nQ 16.5 21.390625 20.328125 13.890625 \r\nQ 24.171875 6.390625 31.78125 6.390625 \r\nQ 39.453125 6.390625 43.28125 13.890625 \r\nQ 47.125 21.390625 47.125 36.375 \r\nQ 47.125 51.421875 43.28125 58.90625 \r\nQ 39.453125 66.40625 31.78125 66.40625 \r\nz\r\nM 31.78125 74.21875 \r\nQ 44.046875 74.21875 50.515625 64.515625 \r\nQ 56.984375 54.828125 56.984375 36.375 \r\nQ 56.984375 17.96875 50.515625 8.265625 \r\nQ 44.046875 -1.421875 31.78125 -1.421875 \r\nQ 19.53125 -1.421875 13.0625 8.265625 \r\nQ 6.59375 17.96875 6.59375 36.375 \r\nQ 6.59375 54.828125 13.0625 64.515625 \r\nQ 19.53125 74.21875 31.78125 74.21875 \r\nz\r\n\" id=\"DejaVuSans-48\"/>\r\n     </defs>\r\n     <use xlink:href=\"#DejaVuSans-72\"/>\r\n     <use x=\"75.195312\" xlink:href=\"#DejaVuSans-105\"/>\r\n     <use x=\"102.978516\" xlink:href=\"#DejaVuSans-103\"/>\r\n     <use x=\"166.455078\" xlink:href=\"#DejaVuSans-104\"/>\r\n     <use x=\"229.833984\" xlink:href=\"#DejaVuSans-32\"/>\r\n     <use x=\"261.621094\" xlink:href=\"#DejaVuSans-61\"/>\r\n     <use x=\"345.410156\" xlink:href=\"#DejaVuSans-32\"/>\r\n     <use x=\"377.197266\" xlink:href=\"#DejaVuSans-52\"/>\r\n     <use x=\"440.820312\" xlink:href=\"#DejaVuSans-50\"/>\r\n     <use x=\"504.443359\" xlink:href=\"#DejaVuSans-48\"/>\r\n     <use x=\"568.066406\" xlink:href=\"#DejaVuSans-48\"/>\r\n    </g>\r\n   </g>\r\n   <g id=\"text_3\">\r\n    <!-- Arousal -->\r\n    <g transform=\"translate(148.938585 16.318125)scale(0.12 -0.12)\">\r\n     <defs>\r\n      <path d=\"M 34.1875 63.1875 \r\nL 20.796875 26.90625 \r\nL 47.609375 26.90625 \r\nz\r\nM 28.609375 72.90625 \r\nL 39.796875 72.90625 \r\nL 67.578125 0 \r\nL 57.328125 0 \r\nL 50.6875 18.703125 \r\nL 17.828125 18.703125 \r\nL 11.1875 0 \r\nL 0.78125 0 \r\nz\r\n\" id=\"DejaVuSans-65\"/>\r\n      <path d=\"M 41.109375 46.296875 \r\nQ 39.59375 47.171875 37.8125 47.578125 \r\nQ 36.03125 48 33.890625 48 \r\nQ 26.265625 48 22.1875 43.046875 \r\nQ 18.109375 38.09375 18.109375 28.8125 \r\nL 18.109375 0 \r\nL 9.078125 0 \r\nL 9.078125 54.6875 \r\nL 18.109375 54.6875 \r\nL 18.109375 46.1875 \r\nQ 20.953125 51.171875 25.484375 53.578125 \r\nQ 30.03125 56 36.53125 56 \r\nQ 37.453125 56 38.578125 55.875 \r\nQ 39.703125 55.765625 41.0625 55.515625 \r\nz\r\n\" id=\"DejaVuSans-114\"/>\r\n      <path d=\"M 8.5 21.578125 \r\nL 8.5 54.6875 \r\nL 17.484375 54.6875 \r\nL 17.484375 21.921875 \r\nQ 17.484375 14.15625 20.5 10.265625 \r\nQ 23.53125 6.390625 29.59375 6.390625 \r\nQ 36.859375 6.390625 41.078125 11.03125 \r\nQ 45.3125 15.671875 45.3125 23.6875 \r\nL 45.3125 54.6875 \r\nL 54.296875 54.6875 \r\nL 54.296875 0 \r\nL 45.3125 0 \r\nL 45.3125 8.40625 \r\nQ 42.046875 3.421875 37.71875 1 \r\nQ 33.40625 -1.421875 27.6875 -1.421875 \r\nQ 18.265625 -1.421875 13.375 4.4375 \r\nQ 8.5 10.296875 8.5 21.578125 \r\nz\r\nM 31.109375 56 \r\nz\r\n\" id=\"DejaVuSans-117\"/>\r\n      <path d=\"M 44.28125 53.078125 \r\nL 44.28125 44.578125 \r\nQ 40.484375 46.53125 36.375 47.5 \r\nQ 32.28125 48.484375 27.875 48.484375 \r\nQ 21.1875 48.484375 17.84375 46.4375 \r\nQ 14.5 44.390625 14.5 40.28125 \r\nQ 14.5 37.15625 16.890625 35.375 \r\nQ 19.28125 33.59375 26.515625 31.984375 \r\nL 29.59375 31.296875 \r\nQ 39.15625 29.25 43.1875 25.515625 \r\nQ 47.21875 21.78125 47.21875 15.09375 \r\nQ 47.21875 7.46875 41.1875 3.015625 \r\nQ 35.15625 -1.421875 24.609375 -1.421875 \r\nQ 20.21875 -1.421875 15.453125 -0.5625 \r\nQ 10.6875 0.296875 5.421875 2 \r\nL 5.421875 11.28125 \r\nQ 10.40625 8.6875 15.234375 7.390625 \r\nQ 20.0625 6.109375 24.8125 6.109375 \r\nQ 31.15625 6.109375 34.5625 8.28125 \r\nQ 37.984375 10.453125 37.984375 14.40625 \r\nQ 37.984375 18.0625 35.515625 20.015625 \r\nQ 33.0625 21.96875 24.703125 23.78125 \r\nL 21.578125 24.515625 \r\nQ 13.234375 26.265625 9.515625 29.90625 \r\nQ 5.8125 33.546875 5.8125 39.890625 \r\nQ 5.8125 47.609375 11.28125 51.796875 \r\nQ 16.75 56 26.8125 56 \r\nQ 31.78125 56 36.171875 55.265625 \r\nQ 40.578125 54.546875 44.28125 53.078125 \r\nz\r\n\" id=\"DejaVuSans-115\"/>\r\n      <path d=\"M 34.28125 27.484375 \r\nQ 23.390625 27.484375 19.1875 25 \r\nQ 14.984375 22.515625 14.984375 16.5 \r\nQ 14.984375 11.71875 18.140625 8.90625 \r\nQ 21.296875 6.109375 26.703125 6.109375 \r\nQ 34.1875 6.109375 38.703125 11.40625 \r\nQ 43.21875 16.703125 43.21875 25.484375 \r\nL 43.21875 27.484375 \r\nz\r\nM 52.203125 31.203125 \r\nL 52.203125 0 \r\nL 43.21875 0 \r\nL 43.21875 8.296875 \r\nQ 40.140625 3.328125 35.546875 0.953125 \r\nQ 30.953125 -1.421875 24.3125 -1.421875 \r\nQ 15.921875 -1.421875 10.953125 3.296875 \r\nQ 6 8.015625 6 15.921875 \r\nQ 6 25.140625 12.171875 29.828125 \r\nQ 18.359375 34.515625 30.609375 34.515625 \r\nL 43.21875 34.515625 \r\nL 43.21875 35.40625 \r\nQ 43.21875 41.609375 39.140625 45 \r\nQ 35.0625 48.390625 27.6875 48.390625 \r\nQ 23 48.390625 18.546875 47.265625 \r\nQ 14.109375 46.140625 10.015625 43.890625 \r\nL 10.015625 52.203125 \r\nQ 14.9375 54.109375 19.578125 55.046875 \r\nQ 24.21875 56 28.609375 56 \r\nQ 40.484375 56 46.34375 49.84375 \r\nQ 52.203125 43.703125 52.203125 31.203125 \r\nz\r\n\" id=\"DejaVuSans-97\"/>\r\n      <path d=\"M 9.421875 75.984375 \r\nL 18.40625 75.984375 \r\nL 18.40625 0 \r\nL 9.421875 0 \r\nz\r\n\" id=\"DejaVuSans-108\"/>\r\n     </defs>\r\n     <use xlink:href=\"#DejaVuSans-65\"/>\r\n     <use x=\"68.408203\" xlink:href=\"#DejaVuSans-114\"/>\r\n     <use x=\"107.271484\" xlink:href=\"#DejaVuSans-111\"/>\r\n     <use x=\"168.453125\" xlink:href=\"#DejaVuSans-117\"/>\r\n     <use x=\"231.832031\" xlink:href=\"#DejaVuSans-115\"/>\r\n     <use x=\"283.931641\" xlink:href=\"#DejaVuSans-97\"/>\r\n     <use x=\"345.210938\" xlink:href=\"#DejaVuSans-108\"/>\r\n    </g>\r\n   </g>\r\n  </g>\r\n  <g id=\"axes_2\">\r\n   <g id=\"patch_4\">\r\n    <path d=\"M 696.494118 186.435772 \r\nC 696.494118 159.495377 688.20222 133.196839 672.749844 111.128559 \r\nC 657.297468 89.060279 635.420921 72.273815 610.10523 63.059658 \r\nC 584.789539 53.8455 557.241001 52.642706 531.218578 59.615394 \r\nC 505.196154 66.588082 481.939819 81.404003 464.622867 102.041544 \r\nL 565.2 186.435772 \r\nL 696.494118 186.435772 \r\nz\r\n\" style=\"fill:#1f77b4;\"/>\r\n   </g>\r\n   <g id=\"patch_5\">\r\n    <path d=\"M 464.622867 102.041544 \r\nC 451.056296 118.209556 441.586215 137.412981 437.018076 158.018529 \r\nC 432.449937 178.624076 432.917028 200.030519 438.379622 220.417194 \r\nC 443.842216 240.80387 454.140926 259.575938 468.399825 275.136795 \r\nC 482.658724 290.697652 500.461768 302.593265 520.29477 309.811886 \r\nC 540.127772 317.030508 561.412047 319.361515 582.337323 316.60665 \r\nC 603.2626 313.851785 623.218322 306.091429 640.507213 293.985616 \r\nC 657.796105 281.879804 671.913713 265.781757 681.659305 247.060648 \r\nC 691.404897 228.33954 696.494118 207.541612 696.494118 186.435772 \r\nL 565.2 186.435772 \r\nL 464.622867 102.041544 \r\nz\r\n\" style=\"fill:#ff7f0e;\"/>\r\n   </g>\r\n   <g id=\"matplotlib.axis_3\"/>\r\n   <g id=\"matplotlib.axis_4\"/>\r\n   <g id=\"text_4\">\r\n    <!-- Low = 2254 -->\r\n    <g transform=\"translate(614.595753 53.481421)scale(0.1 -0.1)\">\r\n     <use xlink:href=\"#DejaVuSans-76\"/>\r\n     <use x=\"53.962891\" xlink:href=\"#DejaVuSans-111\"/>\r\n     <use x=\"115.144531\" xlink:href=\"#DejaVuSans-119\"/>\r\n     <use x=\"196.931641\" xlink:href=\"#DejaVuSans-32\"/>\r\n     <use x=\"228.71875\" xlink:href=\"#DejaVuSans-61\"/>\r\n     <use x=\"312.507812\" xlink:href=\"#DejaVuSans-32\"/>\r\n     <use x=\"344.294922\" xlink:href=\"#DejaVuSans-50\"/>\r\n     <use x=\"407.917969\" xlink:href=\"#DejaVuSans-50\"/>\r\n     <use x=\"471.541016\" xlink:href=\"#DejaVuSans-53\"/>\r\n     <use x=\"535.164062\" xlink:href=\"#DejaVuSans-52\"/>\r\n    </g>\r\n   </g>\r\n   <g id=\"text_5\">\r\n    <!-- High = 3542 -->\r\n    <g transform=\"translate(452.633934 324.908873)scale(0.1 -0.1)\">\r\n     <defs>\r\n      <path d=\"M 40.578125 39.3125 \r\nQ 47.65625 37.796875 51.625 33 \r\nQ 55.609375 28.21875 55.609375 21.1875 \r\nQ 55.609375 10.40625 48.1875 4.484375 \r\nQ 40.765625 -1.421875 27.09375 -1.421875 \r\nQ 22.515625 -1.421875 17.65625 -0.515625 \r\nQ 12.796875 0.390625 7.625 2.203125 \r\nL 7.625 11.71875 \r\nQ 11.71875 9.328125 16.59375 8.109375 \r\nQ 21.484375 6.890625 26.8125 6.890625 \r\nQ 36.078125 6.890625 40.9375 10.546875 \r\nQ 45.796875 14.203125 45.796875 21.1875 \r\nQ 45.796875 27.640625 41.28125 31.265625 \r\nQ 36.765625 34.90625 28.71875 34.90625 \r\nL 20.21875 34.90625 \r\nL 20.21875 43.015625 \r\nL 29.109375 43.015625 \r\nQ 36.375 43.015625 40.234375 45.921875 \r\nQ 44.09375 48.828125 44.09375 54.296875 \r\nQ 44.09375 59.90625 40.109375 62.90625 \r\nQ 36.140625 65.921875 28.71875 65.921875 \r\nQ 24.65625 65.921875 20.015625 65.03125 \r\nQ 15.375 64.15625 9.8125 62.3125 \r\nL 9.8125 71.09375 \r\nQ 15.4375 72.65625 20.34375 73.4375 \r\nQ 25.25 74.21875 29.59375 74.21875 \r\nQ 40.828125 74.21875 47.359375 69.109375 \r\nQ 53.90625 64.015625 53.90625 55.328125 \r\nQ 53.90625 49.265625 50.4375 45.09375 \r\nQ 46.96875 40.921875 40.578125 39.3125 \r\nz\r\n\" id=\"DejaVuSans-51\"/>\r\n     </defs>\r\n     <use xlink:href=\"#DejaVuSans-72\"/>\r\n     <use x=\"75.195312\" xlink:href=\"#DejaVuSans-105\"/>\r\n     <use x=\"102.978516\" xlink:href=\"#DejaVuSans-103\"/>\r\n     <use x=\"166.455078\" xlink:href=\"#DejaVuSans-104\"/>\r\n     <use x=\"229.833984\" xlink:href=\"#DejaVuSans-32\"/>\r\n     <use x=\"261.621094\" xlink:href=\"#DejaVuSans-61\"/>\r\n     <use x=\"345.410156\" xlink:href=\"#DejaVuSans-32\"/>\r\n     <use x=\"377.197266\" xlink:href=\"#DejaVuSans-51\"/>\r\n     <use x=\"440.820312\" xlink:href=\"#DejaVuSans-53\"/>\r\n     <use x=\"504.443359\" xlink:href=\"#DejaVuSans-52\"/>\r\n     <use x=\"568.066406\" xlink:href=\"#DejaVuSans-50\"/>\r\n    </g>\r\n   </g>\r\n   <g id=\"text_6\">\r\n    <!-- Valence -->\r\n    <g transform=\"translate(541.731562 16.318125)scale(0.12 -0.12)\">\r\n     <defs>\r\n      <path d=\"M 28.609375 0 \r\nL 0.78125 72.90625 \r\nL 11.078125 72.90625 \r\nL 34.1875 11.53125 \r\nL 57.328125 72.90625 \r\nL 67.578125 72.90625 \r\nL 39.796875 0 \r\nz\r\n\" id=\"DejaVuSans-86\"/>\r\n      <path d=\"M 56.203125 29.59375 \r\nL 56.203125 25.203125 \r\nL 14.890625 25.203125 \r\nQ 15.484375 15.921875 20.484375 11.0625 \r\nQ 25.484375 6.203125 34.421875 6.203125 \r\nQ 39.59375 6.203125 44.453125 7.46875 \r\nQ 49.3125 8.734375 54.109375 11.28125 \r\nL 54.109375 2.78125 \r\nQ 49.265625 0.734375 44.1875 -0.34375 \r\nQ 39.109375 -1.421875 33.890625 -1.421875 \r\nQ 20.796875 -1.421875 13.15625 6.1875 \r\nQ 5.515625 13.8125 5.515625 26.8125 \r\nQ 5.515625 40.234375 12.765625 48.109375 \r\nQ 20.015625 56 32.328125 56 \r\nQ 43.359375 56 49.78125 48.890625 \r\nQ 56.203125 41.796875 56.203125 29.59375 \r\nz\r\nM 47.21875 32.234375 \r\nQ 47.125 39.59375 43.09375 43.984375 \r\nQ 39.0625 48.390625 32.421875 48.390625 \r\nQ 24.90625 48.390625 20.390625 44.140625 \r\nQ 15.875 39.890625 15.1875 32.171875 \r\nz\r\n\" id=\"DejaVuSans-101\"/>\r\n      <path d=\"M 54.890625 33.015625 \r\nL 54.890625 0 \r\nL 45.90625 0 \r\nL 45.90625 32.71875 \r\nQ 45.90625 40.484375 42.875 44.328125 \r\nQ 39.84375 48.1875 33.796875 48.1875 \r\nQ 26.515625 48.1875 22.3125 43.546875 \r\nQ 18.109375 38.921875 18.109375 30.90625 \r\nL 18.109375 0 \r\nL 9.078125 0 \r\nL 9.078125 54.6875 \r\nL 18.109375 54.6875 \r\nL 18.109375 46.1875 \r\nQ 21.34375 51.125 25.703125 53.5625 \r\nQ 30.078125 56 35.796875 56 \r\nQ 45.21875 56 50.046875 50.171875 \r\nQ 54.890625 44.34375 54.890625 33.015625 \r\nz\r\n\" id=\"DejaVuSans-110\"/>\r\n      <path d=\"M 48.78125 52.59375 \r\nL 48.78125 44.1875 \r\nQ 44.96875 46.296875 41.140625 47.34375 \r\nQ 37.3125 48.390625 33.40625 48.390625 \r\nQ 24.65625 48.390625 19.8125 42.84375 \r\nQ 14.984375 37.3125 14.984375 27.296875 \r\nQ 14.984375 17.28125 19.8125 11.734375 \r\nQ 24.65625 6.203125 33.40625 6.203125 \r\nQ 37.3125 6.203125 41.140625 7.25 \r\nQ 44.96875 8.296875 48.78125 10.40625 \r\nL 48.78125 2.09375 \r\nQ 45.015625 0.34375 40.984375 -0.53125 \r\nQ 36.96875 -1.421875 32.421875 -1.421875 \r\nQ 20.0625 -1.421875 12.78125 6.34375 \r\nQ 5.515625 14.109375 5.515625 27.296875 \r\nQ 5.515625 40.671875 12.859375 48.328125 \r\nQ 20.21875 56 33.015625 56 \r\nQ 37.15625 56 41.109375 55.140625 \r\nQ 45.0625 54.296875 48.78125 52.59375 \r\nz\r\n\" id=\"DejaVuSans-99\"/>\r\n     </defs>\r\n     <use xlink:href=\"#DejaVuSans-86\"/>\r\n     <use x=\"60.658203\" xlink:href=\"#DejaVuSans-97\"/>\r\n     <use x=\"121.9375\" xlink:href=\"#DejaVuSans-108\"/>\r\n     <use x=\"149.720703\" xlink:href=\"#DejaVuSans-101\"/>\r\n     <use x=\"211.244141\" xlink:href=\"#DejaVuSans-110\"/>\r\n     <use x=\"274.623047\" xlink:href=\"#DejaVuSans-99\"/>\r\n     <use x=\"329.603516\" xlink:href=\"#DejaVuSans-101\"/>\r\n    </g>\r\n   </g>\r\n  </g>\r\n  <g id=\"axes_3\">\r\n   <g id=\"patch_6\">\r\n    <path d=\"M 1090.376471 186.435772 \r\nC 1090.376471 154.548488 1078.759817 123.728126 1057.712339 99.773951 \r\nC 1036.66486 75.819775 1007.59502 60.334759 975.972697 56.232617 \r\nL 959.082353 186.435772 \r\nL 1090.376471 186.435772 \r\nz\r\n\" style=\"fill:#1f77b4;\"/>\r\n   </g>\r\n   <g id=\"patch_7\">\r\n    <path d=\"M 975.972697 56.232617 \r\nC 962.815104 54.525775 949.474475 54.823198 936.406025 57.114739 \r\nC 923.337575 59.406281 910.691656 63.665575 898.899779 69.747284 \r\nC 887.107903 75.828994 876.305733 83.663149 866.861868 92.982428 \r\nC 857.418003 102.301707 849.441094 112.998892 843.203334 124.708969 \r\nC 836.965573 136.419045 832.538726 149.007289 830.073848 162.044157 \r\nC 827.608969 175.081025 827.134418 188.416528 828.666387 201.595626 \r\nC 830.198356 214.774724 833.719219 227.645791 839.108837 239.769634 \r\nC 844.498455 251.893477 851.694819 263.130611 860.452371 273.097598 \r\nC 869.209924 283.064585 879.42791 291.646753 890.757665 298.551259 \r\nC 902.08742 305.455764 914.398596 310.60317 927.271105 313.817835 \r\nC 940.143614 317.032499 953.429357 318.277437 966.674992 317.510168 \r\nC 979.920627 316.742898 992.973763 313.97225 1005.388994 309.292763 \r\nC 1017.804225 304.613277 1029.438713 298.07879 1039.895462 289.912275 \r\nC 1050.352211 281.745761 1059.510914 272.041175 1067.059055 261.129662 \r\nC 1074.607196 250.218148 1080.457933 238.225245 1084.411623 225.56018 \r\nC 1088.365314 212.895115 1090.376472 199.703599 1090.376471 186.43576 \r\nL 959.082353 186.435772 \r\nL 975.972697 56.232617 \r\nz\r\n\" style=\"fill:#ff7f0e;\"/>\r\n   </g>\r\n   <g id=\"matplotlib.axis_5\"/>\r\n   <g id=\"matplotlib.axis_6\"/>\r\n   <g id=\"text_7\">\r\n    <!-- Low = 1330 -->\r\n    <g transform=\"translate(1067.575337 93.867144)scale(0.1 -0.1)\">\r\n     <use xlink:href=\"#DejaVuSans-76\"/>\r\n     <use x=\"53.962891\" xlink:href=\"#DejaVuSans-111\"/>\r\n     <use x=\"115.144531\" xlink:href=\"#DejaVuSans-119\"/>\r\n     <use x=\"196.931641\" xlink:href=\"#DejaVuSans-32\"/>\r\n     <use x=\"228.71875\" xlink:href=\"#DejaVuSans-61\"/>\r\n     <use x=\"312.507812\" xlink:href=\"#DejaVuSans-32\"/>\r\n     <use x=\"344.294922\" xlink:href=\"#DejaVuSans-49\"/>\r\n     <use x=\"407.917969\" xlink:href=\"#DejaVuSans-51\"/>\r\n     <use x=\"471.541016\" xlink:href=\"#DejaVuSans-51\"/>\r\n     <use x=\"535.164062\" xlink:href=\"#DejaVuSans-48\"/>\r\n    </g>\r\n   </g>\r\n   <g id=\"text_8\">\r\n    <!-- High = 4466 -->\r\n    <g transform=\"translate(787.419061 284.523156)scale(0.1 -0.1)\">\r\n     <use xlink:href=\"#DejaVuSans-72\"/>\r\n     <use x=\"75.195312\" xlink:href=\"#DejaVuSans-105\"/>\r\n     <use x=\"102.978516\" xlink:href=\"#DejaVuSans-103\"/>\r\n     <use x=\"166.455078\" xlink:href=\"#DejaVuSans-104\"/>\r\n     <use x=\"229.833984\" xlink:href=\"#DejaVuSans-32\"/>\r\n     <use x=\"261.621094\" xlink:href=\"#DejaVuSans-61\"/>\r\n     <use x=\"345.410156\" xlink:href=\"#DejaVuSans-32\"/>\r\n     <use x=\"377.197266\" xlink:href=\"#DejaVuSans-52\"/>\r\n     <use x=\"440.820312\" xlink:href=\"#DejaVuSans-52\"/>\r\n     <use x=\"504.443359\" xlink:href=\"#DejaVuSans-54\"/>\r\n     <use x=\"568.066406\" xlink:href=\"#DejaVuSans-54\"/>\r\n    </g>\r\n   </g>\r\n   <g id=\"text_9\">\r\n    <!-- Dominance -->\r\n    <g transform=\"translate(925.00704 16.318125)scale(0.12 -0.12)\">\r\n     <defs>\r\n      <path d=\"M 19.671875 64.796875 \r\nL 19.671875 8.109375 \r\nL 31.59375 8.109375 \r\nQ 46.6875 8.109375 53.6875 14.9375 \r\nQ 60.6875 21.78125 60.6875 36.53125 \r\nQ 60.6875 51.171875 53.6875 57.984375 \r\nQ 46.6875 64.796875 31.59375 64.796875 \r\nz\r\nM 9.8125 72.90625 \r\nL 30.078125 72.90625 \r\nQ 51.265625 72.90625 61.171875 64.09375 \r\nQ 71.09375 55.28125 71.09375 36.53125 \r\nQ 71.09375 17.671875 61.125 8.828125 \r\nQ 51.171875 0 30.078125 0 \r\nL 9.8125 0 \r\nz\r\n\" id=\"DejaVuSans-68\"/>\r\n      <path d=\"M 52 44.1875 \r\nQ 55.375 50.25 60.0625 53.125 \r\nQ 64.75 56 71.09375 56 \r\nQ 79.640625 56 84.28125 50.015625 \r\nQ 88.921875 44.046875 88.921875 33.015625 \r\nL 88.921875 0 \r\nL 79.890625 0 \r\nL 79.890625 32.71875 \r\nQ 79.890625 40.578125 77.09375 44.375 \r\nQ 74.3125 48.1875 68.609375 48.1875 \r\nQ 61.625 48.1875 57.5625 43.546875 \r\nQ 53.515625 38.921875 53.515625 30.90625 \r\nL 53.515625 0 \r\nL 44.484375 0 \r\nL 44.484375 32.71875 \r\nQ 44.484375 40.625 41.703125 44.40625 \r\nQ 38.921875 48.1875 33.109375 48.1875 \r\nQ 26.21875 48.1875 22.15625 43.53125 \r\nQ 18.109375 38.875 18.109375 30.90625 \r\nL 18.109375 0 \r\nL 9.078125 0 \r\nL 9.078125 54.6875 \r\nL 18.109375 54.6875 \r\nL 18.109375 46.1875 \r\nQ 21.1875 51.21875 25.484375 53.609375 \r\nQ 29.78125 56 35.6875 56 \r\nQ 41.65625 56 45.828125 52.96875 \r\nQ 50 49.953125 52 44.1875 \r\nz\r\n\" id=\"DejaVuSans-109\"/>\r\n     </defs>\r\n     <use xlink:href=\"#DejaVuSans-68\"/>\r\n     <use x=\"77.001953\" xlink:href=\"#DejaVuSans-111\"/>\r\n     <use x=\"138.183594\" xlink:href=\"#DejaVuSans-109\"/>\r\n     <use x=\"235.595703\" xlink:href=\"#DejaVuSans-105\"/>\r\n     <use x=\"263.378906\" xlink:href=\"#DejaVuSans-110\"/>\r\n     <use x=\"326.757812\" xlink:href=\"#DejaVuSans-97\"/>\r\n     <use x=\"388.037109\" xlink:href=\"#DejaVuSans-110\"/>\r\n     <use x=\"451.416016\" xlink:href=\"#DejaVuSans-99\"/>\r\n     <use x=\"506.396484\" xlink:href=\"#DejaVuSans-101\"/>\r\n    </g>\r\n   </g>\r\n  </g>\r\n </g>\r\n</svg>\r\n",
            "image/png": "[encoded data removed]"
          },
          "metadata": {}
        }
      ],
      "source": [
        "fig, (ax1, ax2, ax3) = plt.subplots(1, 3, figsize=(20, 7))\n",
        "\n",
        "# Creating plot \n",
        "ax1.pie([ArousalCountz,ArousalCountone], labels = ['Low = '+str(ArousalCountz),'High = '+str(ArousalCountone)]) \n",
        "ax1.set_title('Arousal')\n",
        "\n",
        "ax2.pie([ValenceCountz,ValenceCountone], labels = ['Low = '+str(ValenceCountz),'High = '+str(ValenceCountone)]) \n",
        "ax2.set_title('Valence')\n",
        "\n",
        "ax3.pie([DominanceCountz,DominanceCountone], labels = ['Low = '+str(DominanceCountz),'High = '+str(DominanceCountone)]) \n",
        "ax3.set_title('Dominance')\n",
        "\n",
        "plt.show() "
      ]
    },
    {
      "cell_type": "code",
      "execution_count": 11,
      "metadata": {},
      "outputs": [
        {
          "output_type": "stream",
          "name": "stdout",
          "text": [
            "(5796, 1) (5796, 1) (5796, 1)\n"
          ]
        }
      ],
      "source": [
        "arousal = np.array(Arousal)\n",
        "valance = np.array(Valence)\n",
        "dominance = np.array(Dominance)\n",
        "print(arousal.shape, valance.shape, dominance.shape)"
      ]
    },
    {
      "cell_type": "code",
      "execution_count": 34,
      "metadata": {},
      "outputs": [
        {
          "output_type": "stream",
          "name": "stdout",
          "text": [
            "Model: \"sequential_4\"\n_________________________________________________________________\nLayer (type)                 Output Shape              Param #   \n=================================================================\nconv2d_27 (Conv2D)           (None, 120, 100, 32)      416       \n_________________________________________________________________\nconv2d_28 (Conv2D)           (None, 120, 100, 32)      4128      \n_________________________________________________________________\nconv2d_29 (Conv2D)           (None, 120, 100, 64)      8256      \n_________________________________________________________________\nmax_pooling2d_13 (MaxPooling (None, 60, 50, 64)        0         \n_________________________________________________________________\ndropout_20 (Dropout)         (None, 60, 50, 64)        0         \n_________________________________________________________________\nflatten_4 (Flatten)          (None, 192000)            0         \n_________________________________________________________________\nmy_dense (Dense)             (None, 630)               120960630 \n_________________________________________________________________\ndropout_21 (Dropout)         (None, 630)               0         \n_________________________________________________________________\ndense_7 (Dense)              (None, 1)                 631       \n=================================================================\nTotal params: 120,974,061\nTrainable params: 120,974,061\nNon-trainable params: 0\n_________________________________________________________________\n"
          ]
        }
      ],
      "source": [
        "#Arousal\n",
        "\n",
        "model = Sequential()\n",
        "\n",
        "model.add(Conv2D(filters=32, kernel_size=(2,2),padding='same', activation='relu', input_shape=[120,100, 3]))\n",
        "\n",
        "model.add(Conv2D(filters=32, kernel_size=(2,2), padding='same', activation='relu'))\n",
        "\n",
        "model.add(Conv2D(filters=64, kernel_size=(2,2), padding='same', activation='relu'))\n",
        "model.add(MaxPool2D(pool_size=(2,2)))\n",
        "model.add(Dropout(0.2))\n",
        "model.add(Flatten())\n",
        "\n",
        "model.add(Dense(units=630 , activation='relu', name='my_dense'))\n",
        "model.add(Dropout(0.5))\n",
        "model.add(Dense(units=1,activation='sigmoid'))\n",
        "\n",
        "model.summary()"
      ]
    },
    {
      "cell_type": "code",
      "execution_count": 35,
      "metadata": {},
      "outputs": [
        {
          "output_type": "stream",
          "name": "stdout",
          "text": [
            "Model: \"model_4\"\n_________________________________________________________________\nLayer (type)                 Output Shape              Param #   \n=================================================================\nconv2d_27_input (InputLayer) [(None, 120, 100, 3)]     0         \n_________________________________________________________________\nconv2d_27 (Conv2D)           (None, 120, 100, 32)      416       \n_________________________________________________________________\nconv2d_28 (Conv2D)           (None, 120, 100, 32)      4128      \n_________________________________________________________________\nconv2d_29 (Conv2D)           (None, 120, 100, 64)      8256      \n_________________________________________________________________\nmax_pooling2d_13 (MaxPooling (None, 60, 50, 64)        0         \n_________________________________________________________________\ndropout_20 (Dropout)         (None, 60, 50, 64)        0         \n_________________________________________________________________\nflatten_4 (Flatten)          (None, 192000)            0         \n_________________________________________________________________\nmy_dense (Dense)             (None, 630)               120960630 \n=================================================================\nTotal params: 120,973,430\nTrainable params: 120,973,430\nNon-trainable params: 0\n_________________________________________________________________\n"
          ]
        }
      ],
      "source": [
        "from keras.models import Model\n",
        "layer_name='my_dense'\n",
        "intermediate_layer_model = Model(inputs=model.input,\n",
        "                                 outputs=model.get_layer(layer_name).output)\n",
        "\n",
        "intermediate_layer_model.summary()"
      ]
    },
    {
      "cell_type": "code",
      "execution_count": 36,
      "metadata": {},
      "outputs": [
        {
          "output_type": "stream",
          "name": "stdout",
          "text": [
            "Epoch 1/30\n",
            "182/182 [==============================] - 224s 1s/step - loss: 1.7183 - accuracy: 0.6755\n",
            "Epoch 2/30\n",
            "182/182 [==============================] - 224s 1s/step - loss: 0.5769 - accuracy: 0.7406\n",
            "Epoch 3/30\n",
            "182/182 [==============================] - 234s 1s/step - loss: 0.4793 - accuracy: 0.7787\n",
            "Epoch 4/30\n",
            "182/182 [==============================] - 220s 1s/step - loss: 0.4056 - accuracy: 0.8261\n",
            "Epoch 5/30\n",
            "182/182 [==============================] - 220s 1s/step - loss: 0.3224 - accuracy: 0.8645\n",
            "Epoch 6/30\n",
            "182/182 [==============================] - 235s 1s/step - loss: 0.2675 - accuracy: 0.8875\n",
            "Epoch 7/30\n",
            "182/182 [==============================] - 230s 1s/step - loss: 0.2255 - accuracy: 0.9101\n",
            "Epoch 8/30\n",
            "182/182 [==============================] - 228s 1s/step - loss: 0.2012 - accuracy: 0.9196\n",
            "Epoch 9/30\n",
            "182/182 [==============================] - 228s 1s/step - loss: 0.1569 - accuracy: 0.9383\n",
            "Epoch 10/30\n",
            "182/182 [==============================] - 225s 1s/step - loss: 0.1348 - accuracy: 0.9473\n",
            "Epoch 11/30\n",
            "182/182 [==============================] - 229s 1s/step - loss: 0.1315 - accuracy: 0.9411\n",
            "Epoch 12/30\n",
            "182/182 [==============================] - 234s 1s/step - loss: 0.1027 - accuracy: 0.9596\n",
            "Epoch 13/30\n",
            "182/182 [==============================] - 230s 1s/step - loss: 0.0986 - accuracy: 0.9594\n",
            "Epoch 14/30\n",
            "182/182 [==============================] - 240s 1s/step - loss: 0.0898 - accuracy: 0.9608\n",
            "Epoch 15/30\n",
            "182/182 [==============================] - 240s 1s/step - loss: 0.0803 - accuracy: 0.9683\n",
            "Epoch 16/30\n",
            "182/182 [==============================] - 235s 1s/step - loss: 0.0868 - accuracy: 0.9651\n",
            "Epoch 17/30\n",
            "182/182 [==============================] - 228s 1s/step - loss: 0.0874 - accuracy: 0.9630\n",
            "Epoch 18/30\n",
            "182/182 [==============================] - 227s 1s/step - loss: 0.0723 - accuracy: 0.9692\n",
            "Epoch 19/30\n",
            "182/182 [==============================] - 229s 1s/step - loss: 0.0593 - accuracy: 0.9738\n",
            "Epoch 20/30\n",
            "182/182 [==============================] - 229s 1s/step - loss: 0.0669 - accuracy: 0.9755\n",
            "Epoch 21/30\n",
            "182/182 [==============================] - 228s 1s/step - loss: 0.0503 - accuracy: 0.9804\n",
            "Epoch 22/30\n",
            "182/182 [==============================] - 231s 1s/step - loss: 0.0568 - accuracy: 0.9806\n",
            "Epoch 23/30\n",
            "182/182 [==============================] - 231s 1s/step - loss: 0.0623 - accuracy: 0.9804\n",
            "Epoch 24/30\n",
            "182/182 [==============================] - 231s 1s/step - loss: 0.0469 - accuracy: 0.9822\n",
            "Epoch 25/30\n",
            "182/182 [==============================] - 230s 1s/step - loss: 0.0566 - accuracy: 0.9796\n",
            "Epoch 26/30\n",
            "182/182 [==============================] - 229s 1s/step - loss: 0.0391 - accuracy: 0.9879\n",
            "Epoch 27/30\n",
            "182/182 [==============================] - 225s 1s/step - loss: 0.0380 - accuracy: 0.9862\n",
            "Epoch 28/30\n",
            "182/182 [==============================] - 225s 1s/step - loss: 0.0335 - accuracy: 0.9884\n",
            "Epoch 29/30\n",
            "182/182 [==============================] - 225s 1s/step - loss: 0.0409 - accuracy: 0.9884\n",
            "Epoch 30/30\n",
            "182/182 [==============================] - 225s 1s/step - loss: 0.0414 - accuracy: 0.9868\n"
          ]
        }
      ],
      "source": [
        "from keras.optimizers import Adam, Adadelta, RMSprop\n",
        "\n",
        "model.compile(loss='binary_crossentropy', optimizer='rmsprop', metrics=['accuracy'])\n",
        "\n",
        "# fit network\n",
        "\n",
        "history = model.fit(allStimuliData, arousal, epochs=30, batch_size=32, verbose=1)"
      ]
    },
    {
      "cell_type": "code",
      "execution_count": 70,
      "metadata": {},
      "outputs": [
        {
          "output_type": "stream",
          "name": "stdout",
          "text": [
            "(5796, 630)\n"
          ]
        }
      ],
      "source": [
        "#Getting the trainned layer from the the previous CNN model.\n",
        "feature_vector = intermediate_layer_model.predict(allStimuliData) \n",
        "feature_vector = pd.DataFrame(data=intermediate_output)\n",
        "print(feature_vector.shape)"
      ]
    },
    {
      "cell_type": "code",
      "execution_count": 71,
      "metadata": {},
      "outputs": [
        {
          "output_type": "execute_result",
          "data": {
            "text/plain": [
              "            0    1    2    3    4    5    6    7    8    9    ...  620  \\\n",
              "0      3.346487  0.0  0.0  0.0  0.0  0.0  0.0  0.0  0.0  0.0  ...  0.0   \n",
              "1      6.013372  0.0  0.0  0.0  0.0  0.0  0.0  0.0  0.0  0.0  ...  0.0   \n",
              "2     14.427404  0.0  0.0  0.0  0.0  0.0  0.0  0.0  0.0  0.0  ...  0.0   \n",
              "3     14.669977  0.0  0.0  0.0  0.0  0.0  0.0  0.0  0.0  0.0  ...  0.0   \n",
              "4     15.084344  0.0  0.0  0.0  0.0  0.0  0.0  0.0  0.0  0.0  ...  0.0   \n",
              "...         ...  ...  ...  ...  ...  ...  ...  ...  ...  ...  ...  ...   \n",
              "5791  13.938763  0.0  0.0  0.0  0.0  0.0  0.0  0.0  0.0  0.0  ...  0.0   \n",
              "5792  14.403699  0.0  0.0  0.0  0.0  0.0  0.0  0.0  0.0  0.0  ...  0.0   \n",
              "5793  11.744981  0.0  0.0  0.0  0.0  0.0  0.0  0.0  0.0  0.0  ...  0.0   \n",
              "5794  15.353786  0.0  0.0  0.0  0.0  0.0  0.0  0.0  0.0  0.0  ...  0.0   \n",
              "5795  14.241494  0.0  0.0  0.0  0.0  0.0  0.0  0.0  0.0  0.0  ...  0.0   \n",
              "\n",
              "            621  622  623  624  625  626  627  628  629  \n",
              "0      2.580889  0.0  0.0  0.0  0.0  0.0  0.0  0.0  0.0  \n",
              "1      5.947896  0.0  0.0  0.0  0.0  0.0  0.0  0.0  0.0  \n",
              "2     14.312762  0.0  0.0  0.0  0.0  0.0  0.0  0.0  0.0  \n",
              "3     15.182760  0.0  0.0  0.0  0.0  0.0  0.0  0.0  0.0  \n",
              "4     17.158424  0.0  0.0  0.0  0.0  0.0  0.0  0.0  0.0  \n",
              "...         ...  ...  ...  ...  ...  ...  ...  ...  ...  \n",
              "5791  14.649897  0.0  0.0  0.0  0.0  0.0  0.0  0.0  0.0  \n",
              "5792  14.366327  0.0  0.0  0.0  0.0  0.0  0.0  0.0  0.0  \n",
              "5793  16.016239  0.0  0.0  0.0  0.0  0.0  0.0  0.0  0.0  \n",
              "5794  17.355055  0.0  0.0  0.0  0.0  0.0  0.0  0.0  0.0  \n",
              "5795  16.510508  0.0  0.0  0.0  0.0  0.0  0.0  0.0  0.0  \n",
              "\n",
              "[5796 rows x 630 columns]"
            ],
            "text/html": "<div>\n<style scoped>\n    .dataframe tbody tr th:only-of-type {\n        vertical-align: middle;\n    }\n\n    .dataframe tbody tr th {\n        vertical-align: top;\n    }\n\n    .dataframe thead th {\n        text-align: right;\n    }\n</style>\n<table border=\"1\" class=\"dataframe\">\n  <thead>\n    <tr style=\"text-align: right;\">\n      <th></th>\n      <th>0</th>\n      <th>1</th>\n      <th>2</th>\n      <th>3</th>\n      <th>4</th>\n      <th>5</th>\n      <th>6</th>\n      <th>7</th>\n      <th>8</th>\n      <th>9</th>\n      <th>...</th>\n      <th>620</th>\n      <th>621</th>\n      <th>622</th>\n      <th>623</th>\n      <th>624</th>\n      <th>625</th>\n      <th>626</th>\n      <th>627</th>\n      <th>628</th>\n      <th>629</th>\n    </tr>\n  </thead>\n  <tbody>\n    <tr>\n      <th>0</th>\n      <td>3.346487</td>\n      <td>0.0</td>\n      <td>0.0</td>\n      <td>0.0</td>\n      <td>0.0</td>\n      <td>0.0</td>\n      <td>0.0</td>\n      <td>0.0</td>\n      <td>0.0</td>\n      <td>0.0</td>\n      <td>...</td>\n      <td>0.0</td>\n      <td>2.580889</td>\n      <td>0.0</td>\n      <td>0.0</td>\n      <td>0.0</td>\n      <td>0.0</td>\n      <td>0.0</td>\n      <td>0.0</td>\n      <td>0.0</td>\n      <td>0.0</td>\n    </tr>\n    <tr>\n      <th>1</th>\n      <td>6.013372</td>\n      <td>0.0</td>\n      <td>0.0</td>\n      <td>0.0</td>\n      <td>0.0</td>\n      <td>0.0</td>\n      <td>0.0</td>\n      <td>0.0</td>\n      <td>0.0</td>\n      <td>0.0</td>\n      <td>...</td>\n      <td>0.0</td>\n      <td>5.947896</td>\n      <td>0.0</td>\n      <td>0.0</td>\n      <td>0.0</td>\n      <td>0.0</td>\n      <td>0.0</td>\n      <td>0.0</td>\n      <td>0.0</td>\n      <td>0.0</td>\n    </tr>\n    <tr>\n      <th>2</th>\n      <td>14.427404</td>\n      <td>0.0</td>\n      <td>0.0</td>\n      <td>0.0</td>\n      <td>0.0</td>\n      <td>0.0</td>\n      <td>0.0</td>\n      <td>0.0</td>\n      <td>0.0</td>\n      <td>0.0</td>\n      <td>...</td>\n      <td>0.0</td>\n      <td>14.312762</td>\n      <td>0.0</td>\n      <td>0.0</td>\n      <td>0.0</td>\n      <td>0.0</td>\n      <td>0.0</td>\n      <td>0.0</td>\n      <td>0.0</td>\n      <td>0.0</td>\n    </tr>\n    <tr>\n      <th>3</th>\n      <td>14.669977</td>\n      <td>0.0</td>\n      <td>0.0</td>\n      <td>0.0</td>\n      <td>0.0</td>\n      <td>0.0</td>\n      <td>0.0</td>\n      <td>0.0</td>\n      <td>0.0</td>\n      <td>0.0</td>\n      <td>...</td>\n      <td>0.0</td>\n      <td>15.182760</td>\n      <td>0.0</td>\n      <td>0.0</td>\n      <td>0.0</td>\n      <td>0.0</td>\n      <td>0.0</td>\n      <td>0.0</td>\n      <td>0.0</td>\n      <td>0.0</td>\n    </tr>\n    <tr>\n      <th>4</th>\n      <td>15.084344</td>\n      <td>0.0</td>\n      <td>0.0</td>\n      <td>0.0</td>\n      <td>0.0</td>\n      <td>0.0</td>\n      <td>0.0</td>\n      <td>0.0</td>\n      <td>0.0</td>\n      <td>0.0</td>\n      <td>...</td>\n      <td>0.0</td>\n      <td>17.158424</td>\n      <td>0.0</td>\n      <td>0.0</td>\n      <td>0.0</td>\n      <td>0.0</td>\n      <td>0.0</td>\n      <td>0.0</td>\n      <td>0.0</td>\n      <td>0.0</td>\n    </tr>\n    <tr>\n      <th>...</th>\n      <td>...</td>\n      <td>...</td>\n      <td>...</td>\n      <td>...</td>\n      <td>...</td>\n      <td>...</td>\n      <td>...</td>\n      <td>...</td>\n      <td>...</td>\n      <td>...</td>\n      <td>...</td>\n      <td>...</td>\n      <td>...</td>\n      <td>...</td>\n      <td>...</td>\n      <td>...</td>\n      <td>...</td>\n      <td>...</td>\n      <td>...</td>\n      <td>...</td>\n      <td>...</td>\n    </tr>\n    <tr>\n      <th>5791</th>\n      <td>13.938763</td>\n      <td>0.0</td>\n      <td>0.0</td>\n      <td>0.0</td>\n      <td>0.0</td>\n      <td>0.0</td>\n      <td>0.0</td>\n      <td>0.0</td>\n      <td>0.0</td>\n      <td>0.0</td>\n      <td>...</td>\n      <td>0.0</td>\n      <td>14.649897</td>\n      <td>0.0</td>\n      <td>0.0</td>\n      <td>0.0</td>\n      <td>0.0</td>\n      <td>0.0</td>\n      <td>0.0</td>\n      <td>0.0</td>\n      <td>0.0</td>\n    </tr>\n    <tr>\n      <th>5792</th>\n      <td>14.403699</td>\n      <td>0.0</td>\n      <td>0.0</td>\n      <td>0.0</td>\n      <td>0.0</td>\n      <td>0.0</td>\n      <td>0.0</td>\n      <td>0.0</td>\n      <td>0.0</td>\n      <td>0.0</td>\n      <td>...</td>\n      <td>0.0</td>\n      <td>14.366327</td>\n      <td>0.0</td>\n      <td>0.0</td>\n      <td>0.0</td>\n      <td>0.0</td>\n      <td>0.0</td>\n      <td>0.0</td>\n      <td>0.0</td>\n      <td>0.0</td>\n    </tr>\n    <tr>\n      <th>5793</th>\n      <td>11.744981</td>\n      <td>0.0</td>\n      <td>0.0</td>\n      <td>0.0</td>\n      <td>0.0</td>\n      <td>0.0</td>\n      <td>0.0</td>\n      <td>0.0</td>\n      <td>0.0</td>\n      <td>0.0</td>\n      <td>...</td>\n      <td>0.0</td>\n      <td>16.016239</td>\n      <td>0.0</td>\n      <td>0.0</td>\n      <td>0.0</td>\n      <td>0.0</td>\n      <td>0.0</td>\n      <td>0.0</td>\n      <td>0.0</td>\n      <td>0.0</td>\n    </tr>\n    <tr>\n      <th>5794</th>\n      <td>15.353786</td>\n      <td>0.0</td>\n      <td>0.0</td>\n      <td>0.0</td>\n      <td>0.0</td>\n      <td>0.0</td>\n      <td>0.0</td>\n      <td>0.0</td>\n      <td>0.0</td>\n      <td>0.0</td>\n      <td>...</td>\n      <td>0.0</td>\n      <td>17.355055</td>\n      <td>0.0</td>\n      <td>0.0</td>\n      <td>0.0</td>\n      <td>0.0</td>\n      <td>0.0</td>\n      <td>0.0</td>\n      <td>0.0</td>\n      <td>0.0</td>\n    </tr>\n    <tr>\n      <th>5795</th>\n      <td>14.241494</td>\n      <td>0.0</td>\n      <td>0.0</td>\n      <td>0.0</td>\n      <td>0.0</td>\n      <td>0.0</td>\n      <td>0.0</td>\n      <td>0.0</td>\n      <td>0.0</td>\n      <td>0.0</td>\n      <td>...</td>\n      <td>0.0</td>\n      <td>16.510508</td>\n      <td>0.0</td>\n      <td>0.0</td>\n      <td>0.0</td>\n      <td>0.0</td>\n      <td>0.0</td>\n      <td>0.0</td>\n      <td>0.0</td>\n      <td>0.0</td>\n    </tr>\n  </tbody>\n</table>\n<p>5796 rows × 630 columns</p>\n</div>"
          },
          "metadata": {},
          "execution_count": 71
        }
      ],
      "source": [
        "# These are the features we have got from the dense layer (unit = 630)\n",
        "feature_vector"
      ]
    },
    {
      "cell_type": "code",
      "execution_count": 84,
      "metadata": {},
      "outputs": [
        {
          "output_type": "stream",
          "name": "stdout",
          "text": [
            "[19:31:08] WARNING: C:/Users/Administrator/workspace/xgboost-win64_release_1.4.0/src/learner.cc:1095: Starting in XGBoost 1.3.0, the default evaluation metric used with the objective 'binary:logistic' was changed from 'error' to 'logloss'. Explicitly set eval_metric if you'd like to restore the old behavior.\n",
            "Accuracy -> 99.712%\n"
          ]
        }
      ],
      "source": [
        "import xgboost\n",
        "from xgboost import XGBClassifier\n",
        "\n",
        "xgbmodel = XGBClassifier(max_depth=3,\n",
        "                      objective='binary:logistic',\n",
        "                      n_estimators= 1000,\n",
        "                      learning_rate = 0.05,\n",
        "                      random_state=0)\n",
        "\n",
        "# Split Train, Test\n",
        "X_train, X_test, y_train, y_test = train_test_split(feature_vector, arousal, test_size=0.3, random_state=0, stratify = arousal)\n",
        "\n",
        "xgbmodel.fit(X_train, y_train)\n",
        "score = xgbmodel.score(X_test, y_test)*100\n",
        "print('Accuracy -> %.3f' % (acc) +'%')\n"
      ]
    },
    {
      "cell_type": "code",
      "execution_count": 86,
      "metadata": {},
      "outputs": [
        {
          "output_type": "stream",
          "name": "stdout",
          "text": [
            "Arousal : Results ->\nOverall Accuracy -> 99.712%\nIdeal threshold is:  1.0\nArea under curve, AUC = 99.607%\nConfusion Matrix\n[[ 476    3]\n [   2 1258]]\n"
          ]
        }
      ],
      "source": [
        "# evaluate model\n",
        "print(\"Arousal : Results ->\")\n",
        "accuracy = xgbmodel.score(X_test, y_test)\n",
        "acc = accuracy*100\n",
        "print('Overall Accuracy -> %.3f' % (acc) +'%')\n",
        "\n",
        "\n",
        "#ROC (Receiver operating characteristic) of Arousal\n",
        "from sklearn.metrics import roc_curve\n",
        "y_preds = xgbmodel.predict(X_test).ravel()\n",
        "fpr, tpr, thresholds = roc_curve(y_test, y_preds)\n",
        "\n",
        "\n",
        "# Getting the right threshold\n",
        "import pandas as pd\n",
        "i = np.arange(len(tpr)) \n",
        "roc = pd.DataFrame({'tf' : pd.Series(tpr-(1-fpr), index=i), 'thresholds' : pd.Series(thresholds, index=i)})\n",
        "ideal_roc_thresh = roc.iloc[(roc.tf-0).abs().argsort()[:1]]  #Locate the point where the value is close to 0\n",
        "threshold_value = float(ideal_roc_thresh['thresholds'])\n",
        "print(\"Ideal threshold is: \", threshold_value) \n",
        "\n",
        "\n",
        "#Now use this threshold value in the confusion matrix to visualize the balance between tp, fp, fp, and fn\n",
        "#Area under the curve (AUC) for ROC plot can be used to understand how well a classifier is performing. % chance that the model can distinguish between positive and negative classes.\n",
        "\n",
        "from sklearn.metrics import auc\n",
        "auc_value = auc(fpr, tpr)*100\n",
        "print('Area under curve, AUC = %.3f' % (auc_value) +'%')\n",
        "\n",
        "print(\"Confusion Matrix\")\n",
        "arousal_pred = (xgbmodel.predict(X_test)).astype(\"int32\") # Setting a threshold.\n",
        "cm = confusion_matrix(y_test, arousal_pred)\n",
        "print(cm)"
      ]
    },
    {
      "cell_type": "code",
      "execution_count": null,
      "metadata": {},
      "outputs": [],
      "source": []
    }
  ]
}